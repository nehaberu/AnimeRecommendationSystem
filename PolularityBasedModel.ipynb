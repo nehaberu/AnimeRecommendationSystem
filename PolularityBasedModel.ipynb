{
 "cells": [
  {
   "cell_type": "code",
   "execution_count": 61,
   "metadata": {
    "colab": {
     "base_uri": "https://localhost:8080/"
    },
    "execution": {
     "iopub.execute_input": "2021-07-19T09:24:58.491238Z",
     "iopub.status.busy": "2021-07-19T09:24:58.490775Z",
     "iopub.status.idle": "2021-07-19T09:24:59.169396Z",
     "shell.execute_reply": "2021-07-19T09:24:59.167872Z",
     "shell.execute_reply.started": "2021-07-19T09:24:58.491137Z"
    },
    "id": "6n3bQhb1Zli4",
    "outputId": "908055e3-ba39-4f9d-fdcc-de314e3ba667"
   },
   "outputs": [
    {
     "name": "stdout",
     "output_type": "stream",
     "text": [
      "Requirement already satisfied: surprise in c:\\users\\dell\\anaconda3\\lib\\site-packages (0.1)\n",
      "Requirement already satisfied: scikit-surprise in c:\\users\\dell\\anaconda3\\lib\\site-packages (from surprise) (1.1.1)\n",
      "Requirement already satisfied: numpy>=1.11.2 in c:\\users\\dell\\anaconda3\\lib\\site-packages (from scikit-surprise->surprise) (1.18.5)\n",
      "Requirement already satisfied: scipy>=1.0.0 in c:\\users\\dell\\anaconda3\\lib\\site-packages (from scikit-surprise->surprise) (1.5.0)\n",
      "Requirement already satisfied: six>=1.10.0 in c:\\users\\dell\\anaconda3\\lib\\site-packages (from scikit-surprise->surprise) (1.15.0)\n",
      "Requirement already satisfied: joblib>=0.11 in c:\\users\\dell\\anaconda3\\lib\\site-packages (from scikit-surprise->surprise) (0.16.0)\n"
     ]
    }
   ],
   "source": [
    "# import 'Pandas' \n",
    "import pandas as pd \n",
    "\n",
    "# import 'Numpy' \n",
    "import numpy as np\n",
    "\n",
    "# import subpackage of Matplotlib\n",
    "import matplotlib.pyplot as plt\n",
    "from matplotlib.colors import ListedColormap\n",
    "\n",
    "import seaborn as sns\n",
    "\n",
    "from warnings import filterwarnings\n",
    "filterwarnings('ignore')\n",
    "\n",
    "from ast import literal_eval\n",
    "from sklearn.feature_extraction.text import TfidfVectorizer\n",
    "from sklearn.metrics.pairwise import cosine_similarity, linear_kernel\n",
    "!pip install surprise\n",
    "from surprise import Reader, SVD, Dataset\n",
    "from surprise.model_selection import cross_validate\n",
    "from sklearn.decomposition import TruncatedSVD\n",
    "import re\n",
    "import string"
   ]
  },
  {
   "cell_type": "markdown",
   "metadata": {
    "id": "lKJ9qt4SZljJ"
   },
   "source": [
    "#Setting some useful Default Options <a id='set_options'></a>"
   ]
  },
  {
   "cell_type": "code",
   "execution_count": 62,
   "metadata": {
    "execution": {
     "iopub.execute_input": "2021-07-19T09:25:13.822226Z",
     "iopub.status.busy": "2021-07-19T09:25:13.821838Z",
     "iopub.status.idle": "2021-07-19T09:25:13.828682Z",
     "shell.execute_reply": "2021-07-19T09:25:13.827360Z",
     "shell.execute_reply.started": "2021-07-19T09:25:13.822183Z"
    },
    "id": "Pl616IwxZljL"
   },
   "outputs": [],
   "source": [
    "# display all columns of the dataframe\n",
    "pd.options.display.max_columns = None\n",
    "# display all rows of the dataframe\n",
    "pd.options.display.max_rows = None\n",
    "# return an output value upto 6 decimals\n",
    "pd.options.display.float_format = '{:.6f}'.format"
   ]
  },
  {
   "cell_type": "markdown",
   "metadata": {
    "id": "xLrJSmH0ZljO"
   },
   "source": [
    "#Reading the Data <a id='Read_Data'></a>"
   ]
  },
  {
   "cell_type": "code",
   "execution_count": 63,
   "metadata": {
    "colab": {
     "base_uri": "https://localhost:8080/",
     "height": 206
    },
    "execution": {
     "iopub.execute_input": "2021-07-19T09:25:13.831141Z",
     "iopub.status.busy": "2021-07-19T09:25:13.830674Z",
     "iopub.status.idle": "2021-07-19T09:25:13.957219Z",
     "shell.execute_reply": "2021-07-19T09:25:13.956460Z",
     "shell.execute_reply.started": "2021-07-19T09:25:13.831093Z"
    },
    "id": "LgnvpMK8ZljQ",
    "outputId": "93d1974e-e97d-405a-881b-0710ded46a1e"
   },
   "outputs": [
    {
     "data": {
      "text/html": [
       "<div>\n",
       "<style scoped>\n",
       "    .dataframe tbody tr th:only-of-type {\n",
       "        vertical-align: middle;\n",
       "    }\n",
       "\n",
       "    .dataframe tbody tr th {\n",
       "        vertical-align: top;\n",
       "    }\n",
       "\n",
       "    .dataframe thead th {\n",
       "        text-align: right;\n",
       "    }\n",
       "</style>\n",
       "<table border=\"1\" class=\"dataframe\">\n",
       "  <thead>\n",
       "    <tr style=\"text-align: right;\">\n",
       "      <th></th>\n",
       "      <th>anime_id</th>\n",
       "      <th>name</th>\n",
       "      <th>genre</th>\n",
       "      <th>type</th>\n",
       "      <th>episodes</th>\n",
       "      <th>rating</th>\n",
       "      <th>members</th>\n",
       "    </tr>\n",
       "  </thead>\n",
       "  <tbody>\n",
       "    <tr>\n",
       "      <th>0</th>\n",
       "      <td>32281</td>\n",
       "      <td>Kimi no Na wa.</td>\n",
       "      <td>Drama, Romance, School, Supernatural</td>\n",
       "      <td>Movie</td>\n",
       "      <td>1</td>\n",
       "      <td>9.370000</td>\n",
       "      <td>200630</td>\n",
       "    </tr>\n",
       "    <tr>\n",
       "      <th>1</th>\n",
       "      <td>5114</td>\n",
       "      <td>Fullmetal Alchemist: Brotherhood</td>\n",
       "      <td>Action, Adventure, Drama, Fantasy, Magic, Mili...</td>\n",
       "      <td>TV</td>\n",
       "      <td>64</td>\n",
       "      <td>9.260000</td>\n",
       "      <td>793665</td>\n",
       "    </tr>\n",
       "    <tr>\n",
       "      <th>2</th>\n",
       "      <td>28977</td>\n",
       "      <td>Gintama°</td>\n",
       "      <td>Action, Comedy, Historical, Parody, Samurai, S...</td>\n",
       "      <td>TV</td>\n",
       "      <td>51</td>\n",
       "      <td>9.250000</td>\n",
       "      <td>114262</td>\n",
       "    </tr>\n",
       "    <tr>\n",
       "      <th>3</th>\n",
       "      <td>9253</td>\n",
       "      <td>Steins;Gate</td>\n",
       "      <td>Sci-Fi, Thriller</td>\n",
       "      <td>TV</td>\n",
       "      <td>24</td>\n",
       "      <td>9.170000</td>\n",
       "      <td>673572</td>\n",
       "    </tr>\n",
       "    <tr>\n",
       "      <th>4</th>\n",
       "      <td>9969</td>\n",
       "      <td>Gintama&amp;#039;</td>\n",
       "      <td>Action, Comedy, Historical, Parody, Samurai, S...</td>\n",
       "      <td>TV</td>\n",
       "      <td>51</td>\n",
       "      <td>9.160000</td>\n",
       "      <td>151266</td>\n",
       "    </tr>\n",
       "  </tbody>\n",
       "</table>\n",
       "</div>"
      ],
      "text/plain": [
       "   anime_id                              name  \\\n",
       "0     32281                    Kimi no Na wa.   \n",
       "1      5114  Fullmetal Alchemist: Brotherhood   \n",
       "2     28977                          Gintama°   \n",
       "3      9253                       Steins;Gate   \n",
       "4      9969                     Gintama&#039;   \n",
       "\n",
       "                                               genre   type episodes   rating  \\\n",
       "0               Drama, Romance, School, Supernatural  Movie        1 9.370000   \n",
       "1  Action, Adventure, Drama, Fantasy, Magic, Mili...     TV       64 9.260000   \n",
       "2  Action, Comedy, Historical, Parody, Samurai, S...     TV       51 9.250000   \n",
       "3                                   Sci-Fi, Thriller     TV       24 9.170000   \n",
       "4  Action, Comedy, Historical, Parody, Samurai, S...     TV       51 9.160000   \n",
       "\n",
       "   members  \n",
       "0   200630  \n",
       "1   793665  \n",
       "2   114262  \n",
       "3   673572  \n",
       "4   151266  "
      ]
     },
     "execution_count": 63,
     "metadata": {},
     "output_type": "execute_result"
    }
   ],
   "source": [
    "anime = pd.read_csv('C:/Users/Dell/Desktop/anime.csv')\n",
    "anime.head()"
   ]
  },
  {
   "cell_type": "code",
   "execution_count": 64,
   "metadata": {
    "colab": {
     "base_uri": "https://localhost:8080/",
     "height": 206
    },
    "execution": {
     "iopub.execute_input": "2021-07-19T09:25:13.988376Z",
     "iopub.status.busy": "2021-07-19T09:25:13.988057Z",
     "iopub.status.idle": "2021-07-19T09:25:17.708103Z",
     "shell.execute_reply": "2021-07-19T09:25:17.706330Z",
     "shell.execute_reply.started": "2021-07-19T09:25:13.988344Z"
    },
    "id": "oHvqlEdHZljS",
    "outputId": "7f2b2d49-b4b0-44d0-b4fa-1adbfc0bb384"
   },
   "outputs": [
    {
     "data": {
      "text/html": [
       "<div>\n",
       "<style scoped>\n",
       "    .dataframe tbody tr th:only-of-type {\n",
       "        vertical-align: middle;\n",
       "    }\n",
       "\n",
       "    .dataframe tbody tr th {\n",
       "        vertical-align: top;\n",
       "    }\n",
       "\n",
       "    .dataframe thead th {\n",
       "        text-align: right;\n",
       "    }\n",
       "</style>\n",
       "<table border=\"1\" class=\"dataframe\">\n",
       "  <thead>\n",
       "    <tr style=\"text-align: right;\">\n",
       "      <th></th>\n",
       "      <th>user_id</th>\n",
       "      <th>anime_id</th>\n",
       "      <th>rating</th>\n",
       "    </tr>\n",
       "  </thead>\n",
       "  <tbody>\n",
       "    <tr>\n",
       "      <th>0</th>\n",
       "      <td>1</td>\n",
       "      <td>20</td>\n",
       "      <td>-1</td>\n",
       "    </tr>\n",
       "    <tr>\n",
       "      <th>1</th>\n",
       "      <td>1</td>\n",
       "      <td>24</td>\n",
       "      <td>-1</td>\n",
       "    </tr>\n",
       "    <tr>\n",
       "      <th>2</th>\n",
       "      <td>1</td>\n",
       "      <td>79</td>\n",
       "      <td>-1</td>\n",
       "    </tr>\n",
       "    <tr>\n",
       "      <th>3</th>\n",
       "      <td>1</td>\n",
       "      <td>226</td>\n",
       "      <td>-1</td>\n",
       "    </tr>\n",
       "    <tr>\n",
       "      <th>4</th>\n",
       "      <td>1</td>\n",
       "      <td>241</td>\n",
       "      <td>-1</td>\n",
       "    </tr>\n",
       "  </tbody>\n",
       "</table>\n",
       "</div>"
      ],
      "text/plain": [
       "   user_id  anime_id  rating\n",
       "0        1        20      -1\n",
       "1        1        24      -1\n",
       "2        1        79      -1\n",
       "3        1       226      -1\n",
       "4        1       241      -1"
      ]
     },
     "execution_count": 64,
     "metadata": {},
     "output_type": "execute_result"
    }
   ],
   "source": [
    "rating=pd.read_csv('C:/Users/Dell/Desktop/rating.csv',sep=',')\n",
    "rating.head()"
   ]
  },
  {
   "cell_type": "code",
   "execution_count": 65,
   "metadata": {
    "colab": {
     "base_uri": "https://localhost:8080/"
    },
    "execution": {
     "iopub.execute_input": "2021-07-19T09:25:17.727747Z",
     "iopub.status.busy": "2021-07-19T09:25:17.727361Z",
     "iopub.status.idle": "2021-07-19T09:25:17.743277Z",
     "shell.execute_reply": "2021-07-19T09:25:17.741750Z",
     "shell.execute_reply.started": "2021-07-19T09:25:17.727700Z"
    },
    "id": "ZF8iKuNZZlja",
    "outputId": "d7c29145-8e26-46fb-c306-577189f758b7"
   },
   "outputs": [
    {
     "data": {
      "text/plain": [
       "array(['Steins;Gate', 'Gintama&#039;',\n",
       "       'Haikyuu!!: Karasuno Koukou VS Shiratorizawa Gakuen Koukou',\n",
       "       'Hunter x Hunter (2011)', 'Ginga Eiyuu Densetsu',\n",
       "       'Gintama Movie: Kanketsu-hen - Yorozuya yo Eien Nare',\n",
       "       'Gintama&#039;: Enchousen'], dtype=object)"
      ]
     },
     "execution_count": 65,
     "metadata": {},
     "output_type": "execute_result"
    }
   ],
   "source": [
    "anime['name'].unique()[3:10]"
   ]
  },
  {
   "cell_type": "code",
   "execution_count": 66,
   "metadata": {
    "execution": {
     "iopub.execute_input": "2021-07-19T09:25:17.745959Z",
     "iopub.status.busy": "2021-07-19T09:25:17.745588Z",
     "iopub.status.idle": "2021-07-19T09:25:17.934783Z",
     "shell.execute_reply": "2021-07-19T09:25:17.933794Z",
     "shell.execute_reply.started": "2021-07-19T09:25:17.745926Z"
    },
    "id": "u_xiGUkGZljb"
   },
   "outputs": [],
   "source": [
    "def text_cleaning(text):\n",
    "    text = re.sub(r'&quot;', '', text)\n",
    "    text  = \"\".join([char for char in text if char not in string.punctuation])\n",
    "    text = re.sub(r'.hack//', '', text)\n",
    "    text = re.sub(r'&#039;', '', text)\n",
    "    text = re.sub(r'A&#039;s', '', text)\n",
    "    text = re.sub(r'I&#039;', 'I\\'', text)\n",
    "    text = re.sub(r'&amp;', 'and', text)\n",
    "    text = re.sub(r'Â°', '',text)\n",
    "    \n",
    "    return text\n",
    "\n",
    "anime['name'] = anime['name'].apply(text_cleaning)"
   ]
  },
  {
   "cell_type": "code",
   "execution_count": 67,
   "metadata": {
    "execution": {
     "iopub.execute_input": "2021-07-19T09:25:17.936265Z",
     "iopub.status.busy": "2021-07-19T09:25:17.935977Z",
     "iopub.status.idle": "2021-07-19T09:25:18.121611Z",
     "shell.execute_reply": "2021-07-19T09:25:18.120714Z",
     "shell.execute_reply.started": "2021-07-19T09:25:17.936236Z"
    },
    "id": "2Nu9NI7IZljd"
   },
   "outputs": [],
   "source": [
    "anime['name'] = anime['name'].apply(text_cleaning)"
   ]
  },
  {
   "cell_type": "code",
   "execution_count": 68,
   "metadata": {
    "execution": {
     "iopub.execute_input": "2021-07-19T09:25:18.149678Z",
     "iopub.status.busy": "2021-07-19T09:25:18.149346Z",
     "iopub.status.idle": "2021-07-19T09:25:18.162536Z",
     "shell.execute_reply": "2021-07-19T09:25:18.161336Z",
     "shell.execute_reply.started": "2021-07-19T09:25:18.149646Z"
    },
    "id": "eYccHUgRZljh"
   },
   "outputs": [],
   "source": [
    "anime.episodes.replace({'Unknown':np.nan},inplace=True)"
   ]
  },
  {
   "cell_type": "markdown",
   "metadata": {
    "id": "Wp9ww8ODZljh"
   },
   "source": [
    "###Merging the datasets<a id='merging'></a>"
   ]
  },
  {
   "cell_type": "code",
   "execution_count": 69,
   "metadata": {
    "colab": {
     "base_uri": "https://localhost:8080/",
     "height": 0
    },
    "execution": {
     "iopub.execute_input": "2021-07-19T09:25:18.166935Z",
     "iopub.status.busy": "2021-07-19T09:25:18.166183Z",
     "iopub.status.idle": "2021-07-19T09:25:19.737551Z",
     "shell.execute_reply": "2021-07-19T09:25:19.736275Z",
     "shell.execute_reply.started": "2021-07-19T09:25:18.166895Z"
    },
    "id": "gTMRc8UQZlji",
    "outputId": "c6566ba6-0b8b-4f46-aded-581f4d4ce030"
   },
   "outputs": [],
   "source": [
    "anime_rating=pd.merge(anime,rating,on='anime_id')\n",
    "anime_rating.rename(columns={'rating_x':'avg_rating','rating_y':'user_rating'},inplace=True)"
   ]
  },
  {
   "cell_type": "markdown",
   "metadata": {
    "id": "Q15ImnbDZljq"
   },
   "source": [
    "###Changing Data Types <a id='Data_Types'></a>"
   ]
  },
  {
   "cell_type": "code",
   "execution_count": 70,
   "metadata": {
    "colab": {
     "base_uri": "https://localhost:8080/"
    },
    "execution": {
     "iopub.execute_input": "2021-07-19T09:25:19.819506Z",
     "iopub.status.busy": "2021-07-19T09:25:19.818921Z",
     "iopub.status.idle": "2021-07-19T09:25:19.828431Z",
     "shell.execute_reply": "2021-07-19T09:25:19.827602Z",
     "shell.execute_reply.started": "2021-07-19T09:25:19.819455Z"
    },
    "id": "NZUE-lH1Zljr",
    "outputId": "b365fdb0-2329-4389-c1a3-6e54f5a5d700"
   },
   "outputs": [
    {
     "data": {
      "text/plain": [
       "anime_id         int64\n",
       "name            object\n",
       "genre           object\n",
       "type            object\n",
       "episodes        object\n",
       "avg_rating     float64\n",
       "members          int64\n",
       "user_id          int64\n",
       "user_rating      int64\n",
       "dtype: object"
      ]
     },
     "execution_count": 70,
     "metadata": {},
     "output_type": "execute_result"
    }
   ],
   "source": [
    "anime_rating.dtypes"
   ]
  },
  {
   "cell_type": "markdown",
   "metadata": {
    "id": "1xyhU8DOZljs"
   },
   "source": [
    "There are 4 `objects`, 1 `float` and 4 `int` data types attributes.\n",
    "\n",
    "As anime_id and user_id are unique values I need to convert it into `object` data type."
   ]
  },
  {
   "cell_type": "code",
   "execution_count": 71,
   "metadata": {
    "execution": {
     "iopub.execute_input": "2021-07-19T09:25:19.830779Z",
     "iopub.status.busy": "2021-07-19T09:25:19.830132Z",
     "iopub.status.idle": "2021-07-19T09:25:21.220900Z",
     "shell.execute_reply": "2021-07-19T09:25:21.219890Z",
     "shell.execute_reply.started": "2021-07-19T09:25:19.830739Z"
    },
    "id": "1vXRagydZljt"
   },
   "outputs": [],
   "source": [
    "anime_rating['anime_id']=anime_rating.anime_id.astype('object')\n",
    "anime_rating['user_id']=anime_rating.user_id.astype('object')"
   ]
  },
  {
   "cell_type": "code",
   "execution_count": 72,
   "metadata": {
    "colab": {
     "base_uri": "https://localhost:8080/"
    },
    "execution": {
     "iopub.execute_input": "2021-07-19T09:25:21.223816Z",
     "iopub.status.busy": "2021-07-19T09:25:21.222793Z",
     "iopub.status.idle": "2021-07-19T09:25:21.234296Z",
     "shell.execute_reply": "2021-07-19T09:25:21.233434Z",
     "shell.execute_reply.started": "2021-07-19T09:25:21.223606Z"
    },
    "id": "KmnR3KHmZljv",
    "outputId": "cee9a874-6fba-45ee-dca6-b323066ffbfc"
   },
   "outputs": [
    {
     "data": {
      "text/plain": [
       "anime_id        object\n",
       "name            object\n",
       "genre           object\n",
       "type            object\n",
       "episodes        object\n",
       "avg_rating     float64\n",
       "members          int64\n",
       "user_id         object\n",
       "user_rating      int64\n",
       "dtype: object"
      ]
     },
     "execution_count": 72,
     "metadata": {},
     "output_type": "execute_result"
    }
   ],
   "source": [
    "anime_rating.dtypes"
   ]
  },
  {
   "cell_type": "markdown",
   "metadata": {
    "id": "-yT6iNCDZljw"
   },
   "source": [
    "Now there are 6 `objects`, 2 `int` and 1 `float` attributes."
   ]
  },
  {
   "cell_type": "markdown",
   "metadata": {
    "id": "9JJwn1rcZljw"
   },
   "source": [
    "###Fixing Missing Values <a id='Missing_Values'></a>"
   ]
  },
  {
   "cell_type": "code",
   "execution_count": 73,
   "metadata": {
    "execution": {
     "iopub.execute_input": "2021-07-19T09:25:21.237247Z",
     "iopub.status.busy": "2021-07-19T09:25:21.236482Z",
     "iopub.status.idle": "2021-07-19T09:25:30.442087Z",
     "shell.execute_reply": "2021-07-19T09:25:30.441261Z",
     "shell.execute_reply.started": "2021-07-19T09:25:21.237193Z"
    },
    "id": "HUhQ0VssZljx"
   },
   "outputs": [],
   "source": [
    "missing_value = pd.DataFrame({\n",
    "    'Missing Value': anime_rating.isnull().sum(),\n",
    "    'Percentage': (anime_rating.isnull().sum() / len(anime_rating))*100\n",
    "})"
   ]
  },
  {
   "cell_type": "code",
   "execution_count": 74,
   "metadata": {
    "colab": {
     "base_uri": "https://localhost:8080/",
     "height": 0
    },
    "execution": {
     "iopub.execute_input": "2021-07-19T09:25:30.444273Z",
     "iopub.status.busy": "2021-07-19T09:25:30.443600Z",
     "iopub.status.idle": "2021-07-19T09:25:30.457026Z",
     "shell.execute_reply": "2021-07-19T09:25:30.455930Z",
     "shell.execute_reply.started": "2021-07-19T09:25:30.444217Z"
    },
    "id": "Ga9F1xBiZljx",
    "outputId": "8d53f418-96a8-487b-9900-ba5b593fb2c8"
   },
   "outputs": [
    {
     "data": {
      "text/html": [
       "<div>\n",
       "<style scoped>\n",
       "    .dataframe tbody tr th:only-of-type {\n",
       "        vertical-align: middle;\n",
       "    }\n",
       "\n",
       "    .dataframe tbody tr th {\n",
       "        vertical-align: top;\n",
       "    }\n",
       "\n",
       "    .dataframe thead th {\n",
       "        text-align: right;\n",
       "    }\n",
       "</style>\n",
       "<table border=\"1\" class=\"dataframe\">\n",
       "  <thead>\n",
       "    <tr style=\"text-align: right;\">\n",
       "      <th></th>\n",
       "      <th>Missing Value</th>\n",
       "      <th>Percentage</th>\n",
       "    </tr>\n",
       "  </thead>\n",
       "  <tbody>\n",
       "    <tr>\n",
       "      <th>genre</th>\n",
       "      <td>110</td>\n",
       "      <td>0.001408</td>\n",
       "    </tr>\n",
       "    <tr>\n",
       "      <th>episodes</th>\n",
       "      <td>8</td>\n",
       "      <td>0.000102</td>\n",
       "    </tr>\n",
       "    <tr>\n",
       "      <th>avg_rating</th>\n",
       "      <td>6</td>\n",
       "      <td>0.000077</td>\n",
       "    </tr>\n",
       "    <tr>\n",
       "      <th>type</th>\n",
       "      <td>4</td>\n",
       "      <td>0.000051</td>\n",
       "    </tr>\n",
       "    <tr>\n",
       "      <th>anime_id</th>\n",
       "      <td>0</td>\n",
       "      <td>0.000000</td>\n",
       "    </tr>\n",
       "    <tr>\n",
       "      <th>name</th>\n",
       "      <td>0</td>\n",
       "      <td>0.000000</td>\n",
       "    </tr>\n",
       "    <tr>\n",
       "      <th>members</th>\n",
       "      <td>0</td>\n",
       "      <td>0.000000</td>\n",
       "    </tr>\n",
       "    <tr>\n",
       "      <th>user_id</th>\n",
       "      <td>0</td>\n",
       "      <td>0.000000</td>\n",
       "    </tr>\n",
       "    <tr>\n",
       "      <th>user_rating</th>\n",
       "      <td>0</td>\n",
       "      <td>0.000000</td>\n",
       "    </tr>\n",
       "  </tbody>\n",
       "</table>\n",
       "</div>"
      ],
      "text/plain": [
       "             Missing Value  Percentage\n",
       "genre                  110    0.001408\n",
       "episodes                 8    0.000102\n",
       "avg_rating               6    0.000077\n",
       "type                     4    0.000051\n",
       "anime_id                 0    0.000000\n",
       "name                     0    0.000000\n",
       "members                  0    0.000000\n",
       "user_id                  0    0.000000\n",
       "user_rating              0    0.000000"
      ]
     },
     "execution_count": 74,
     "metadata": {},
     "output_type": "execute_result"
    }
   ],
   "source": [
    "missing_value.sort_values(by='Percentage', ascending=False)"
   ]
  },
  {
   "cell_type": "markdown",
   "metadata": {
    "id": "_a9aCvOXZljy"
   },
   "source": [
    "There are few missing values in `genre`,`episodes`,`avg_rating` and `type`."
   ]
  },
  {
   "cell_type": "code",
   "execution_count": 75,
   "metadata": {
    "colab": {
     "base_uri": "https://localhost:8080/"
    },
    "execution": {
     "iopub.execute_input": "2021-07-19T09:25:30.459498Z",
     "iopub.status.busy": "2021-07-19T09:25:30.458664Z",
     "iopub.status.idle": "2021-07-19T09:25:30.479634Z",
     "shell.execute_reply": "2021-07-19T09:25:30.478427Z",
     "shell.execute_reply.started": "2021-07-19T09:25:30.459449Z"
    },
    "id": "piaziXRPZljz",
    "outputId": "f9e66ca4-a225-4a9f-dd6f-8dd4dcbf529b"
   },
   "outputs": [
    {
     "data": {
      "text/plain": [
       "anime_id      0\n",
       "name          0\n",
       "genre        62\n",
       "type         25\n",
       "episodes    340\n",
       "rating      230\n",
       "members       0\n",
       "dtype: int64"
      ]
     },
     "execution_count": 75,
     "metadata": {},
     "output_type": "execute_result"
    }
   ],
   "source": [
    "anime.isnull().sum()"
   ]
  },
  {
   "cell_type": "markdown",
   "metadata": {
    "id": "Fdi-E6z0Zlj0"
   },
   "source": [
    "There are few missing values in `genre`,`episodes`,`avg_rating` and `type`."
   ]
  },
  {
   "cell_type": "markdown",
   "metadata": {
    "id": "SOdpFOzqZlj0"
   },
   "source": [
    "**Missing Values treatment**"
   ]
  },
  {
   "cell_type": "code",
   "execution_count": 76,
   "metadata": {
    "execution": {
     "iopub.execute_input": "2021-07-19T09:25:30.488001Z",
     "iopub.status.busy": "2021-07-19T09:25:30.487512Z",
     "iopub.status.idle": "2021-07-19T09:25:37.669223Z",
     "shell.execute_reply": "2021-07-19T09:25:37.668173Z",
     "shell.execute_reply.started": "2021-07-19T09:25:30.487967Z"
    },
    "id": "ZosSGku7Zlj1"
   },
   "outputs": [],
   "source": [
    "# I can't replace the nan values with mean or median as it's unique for each movie\n",
    "# So I will drop the null values rows\n",
    "anime_rating.dropna(inplace=True)\n",
    "anime.dropna(inplace=True)"
   ]
  },
  {
   "cell_type": "markdown",
   "metadata": {
    "id": "LGJK14DCZlj4"
   },
   "source": [
    "Now, There are no null values in the dataset."
   ]
  },
  {
   "cell_type": "markdown",
   "metadata": {
    "id": "s9rKcXsXZlj5"
   },
   "source": [
    "###RemovingDuplicate Data <a id='duplicate'></a>"
   ]
  },
  {
   "cell_type": "code",
   "execution_count": 77,
   "metadata": {
    "colab": {
     "base_uri": "https://localhost:8080/"
    },
    "execution": {
     "iopub.execute_input": "2021-07-19T09:25:42.319737Z",
     "iopub.status.busy": "2021-07-19T09:25:42.319106Z",
     "iopub.status.idle": "2021-07-19T09:25:45.875112Z",
     "shell.execute_reply": "2021-07-19T09:25:45.874217Z",
     "shell.execute_reply.started": "2021-07-19T09:25:42.319698Z"
    },
    "id": "llu_AuzcZlj5",
    "outputId": "c74e8661-3004-4970-bba0-25e1d519a42c"
   },
   "outputs": [
    {
     "name": "stdout",
     "output_type": "stream",
     "text": [
      "There are 7 duplicated rows in the data\n"
     ]
    }
   ],
   "source": [
    "duplicate = anime_rating.duplicated(subset=['anime_id','user_id']).sum()\n",
    "print('There are {} duplicated rows in the data'.format(duplicate))"
   ]
  },
  {
   "cell_type": "code",
   "execution_count": 78,
   "metadata": {
    "colab": {
     "base_uri": "https://localhost:8080/"
    },
    "execution": {
     "iopub.execute_input": "2021-07-19T09:25:45.876767Z",
     "iopub.status.busy": "2021-07-19T09:25:45.876290Z",
     "iopub.status.idle": "2021-07-19T09:25:45.895329Z",
     "shell.execute_reply": "2021-07-19T09:25:45.894460Z",
     "shell.execute_reply.started": "2021-07-19T09:25:45.876734Z"
    },
    "id": "dWMCHW7NZlj7",
    "outputId": "74cd0929-4ff6-4732-d4db-049a7c262c54"
   },
   "outputs": [
    {
     "name": "stdout",
     "output_type": "stream",
     "text": [
      "There are 0 duplicated rows in the data\n"
     ]
    }
   ],
   "source": [
    "duplicate = anime.duplicated().sum()\n",
    "print('There are {} duplicated rows in the data'.format(duplicate))"
   ]
  },
  {
   "cell_type": "markdown",
   "metadata": {
    "id": "CSFGZQ2NZlj7"
   },
   "source": [
    "**Getting rid of duplicate data**"
   ]
  },
  {
   "cell_type": "code",
   "execution_count": 79,
   "metadata": {
    "execution": {
     "iopub.execute_input": "2021-07-19T09:25:45.896999Z",
     "iopub.status.busy": "2021-07-19T09:25:45.896575Z",
     "iopub.status.idle": "2021-07-19T09:25:50.311742Z",
     "shell.execute_reply": "2021-07-19T09:25:50.310361Z",
     "shell.execute_reply.started": "2021-07-19T09:25:45.896965Z"
    },
    "id": "U5U3nv8CZlj8"
   },
   "outputs": [],
   "source": [
    "anime_rating.drop_duplicates(subset=['anime_id','user_id'],inplace=True)"
   ]
  },
  {
   "cell_type": "markdown",
   "metadata": {
    "id": "g52GzE49Zlj8"
   },
   "source": [
    "**Checking for duplicate data after removal of duplicates**"
   ]
  },
  {
   "cell_type": "code",
   "execution_count": 80,
   "metadata": {
    "colab": {
     "base_uri": "https://localhost:8080/"
    },
    "execution": {
     "iopub.execute_input": "2021-07-19T09:25:50.313923Z",
     "iopub.status.busy": "2021-07-19T09:25:50.313581Z",
     "iopub.status.idle": "2021-07-19T09:25:57.599812Z",
     "shell.execute_reply": "2021-07-19T09:25:57.598836Z",
     "shell.execute_reply.started": "2021-07-19T09:25:50.313892Z"
    },
    "id": "BP4IzRGMZlj9",
    "outputId": "d0079244-d4e9-4ff1-a360-389c9c987426"
   },
   "outputs": [
    {
     "name": "stdout",
     "output_type": "stream",
     "text": [
      "There are 0 duplicated rows in the data\n"
     ]
    }
   ],
   "source": [
    "duplicate = anime_rating.duplicated().sum()\n",
    "print('There are {} duplicated rows in the data'.format(duplicate))"
   ]
  },
  {
   "cell_type": "markdown",
   "metadata": {
    "id": "PqkGYQYzZlkA"
   },
   "source": [
    "There are `7813604` records after removing missing values and duplicates."
   ]
  },
  {
   "cell_type": "code",
   "execution_count": 81,
   "metadata": {
    "colab": {
     "base_uri": "https://localhost:8080/",
     "height": 0
    },
    "execution": {
     "iopub.execute_input": "2021-07-19T09:26:21.887692Z",
     "iopub.status.busy": "2021-07-19T09:26:21.887346Z",
     "iopub.status.idle": "2021-07-19T09:26:21.909731Z",
     "shell.execute_reply": "2021-07-19T09:26:21.908972Z",
     "shell.execute_reply.started": "2021-07-19T09:26:21.887661Z"
    },
    "id": "vZYPN5BuZlkA",
    "outputId": "f3f73f5f-0dec-43ef-f59c-300f9a163bbe"
   },
   "outputs": [
    {
     "data": {
      "text/html": [
       "<div>\n",
       "<style scoped>\n",
       "    .dataframe tbody tr th:only-of-type {\n",
       "        vertical-align: middle;\n",
       "    }\n",
       "\n",
       "    .dataframe tbody tr th {\n",
       "        vertical-align: top;\n",
       "    }\n",
       "\n",
       "    .dataframe thead th {\n",
       "        text-align: right;\n",
       "    }\n",
       "</style>\n",
       "<table border=\"1\" class=\"dataframe\">\n",
       "  <thead>\n",
       "    <tr style=\"text-align: right;\">\n",
       "      <th></th>\n",
       "      <th>anime_id</th>\n",
       "      <th>name</th>\n",
       "      <th>genre</th>\n",
       "      <th>type</th>\n",
       "      <th>episodes</th>\n",
       "      <th>avg_rating</th>\n",
       "      <th>members</th>\n",
       "      <th>user_id</th>\n",
       "      <th>user_rating</th>\n",
       "    </tr>\n",
       "  </thead>\n",
       "  <tbody>\n",
       "    <tr>\n",
       "      <th>7813722</th>\n",
       "      <td>6133</td>\n",
       "      <td>Violence Gekiga Shin David no Hoshi Inma Densetsu</td>\n",
       "      <td>Hentai</td>\n",
       "      <td>OVA</td>\n",
       "      <td>1</td>\n",
       "      <td>4.980000</td>\n",
       "      <td>175</td>\n",
       "      <td>39532</td>\n",
       "      <td>-1</td>\n",
       "    </tr>\n",
       "    <tr>\n",
       "      <th>7813723</th>\n",
       "      <td>6133</td>\n",
       "      <td>Violence Gekiga Shin David no Hoshi Inma Densetsu</td>\n",
       "      <td>Hentai</td>\n",
       "      <td>OVA</td>\n",
       "      <td>1</td>\n",
       "      <td>4.980000</td>\n",
       "      <td>175</td>\n",
       "      <td>48766</td>\n",
       "      <td>-1</td>\n",
       "    </tr>\n",
       "    <tr>\n",
       "      <th>7813724</th>\n",
       "      <td>6133</td>\n",
       "      <td>Violence Gekiga Shin David no Hoshi Inma Densetsu</td>\n",
       "      <td>Hentai</td>\n",
       "      <td>OVA</td>\n",
       "      <td>1</td>\n",
       "      <td>4.980000</td>\n",
       "      <td>175</td>\n",
       "      <td>60365</td>\n",
       "      <td>4</td>\n",
       "    </tr>\n",
       "    <tr>\n",
       "      <th>7813725</th>\n",
       "      <td>26081</td>\n",
       "      <td>Yasuji no Pornorama Yacchimae</td>\n",
       "      <td>Hentai</td>\n",
       "      <td>Movie</td>\n",
       "      <td>1</td>\n",
       "      <td>5.460000</td>\n",
       "      <td>142</td>\n",
       "      <td>27364</td>\n",
       "      <td>-1</td>\n",
       "    </tr>\n",
       "    <tr>\n",
       "      <th>7813726</th>\n",
       "      <td>26081</td>\n",
       "      <td>Yasuji no Pornorama Yacchimae</td>\n",
       "      <td>Hentai</td>\n",
       "      <td>Movie</td>\n",
       "      <td>1</td>\n",
       "      <td>5.460000</td>\n",
       "      <td>142</td>\n",
       "      <td>48766</td>\n",
       "      <td>-1</td>\n",
       "    </tr>\n",
       "  </tbody>\n",
       "</table>\n",
       "</div>"
      ],
      "text/plain": [
       "        anime_id                                               name   genre  \\\n",
       "7813722     6133  Violence Gekiga Shin David no Hoshi Inma Densetsu  Hentai   \n",
       "7813723     6133  Violence Gekiga Shin David no Hoshi Inma Densetsu  Hentai   \n",
       "7813724     6133  Violence Gekiga Shin David no Hoshi Inma Densetsu  Hentai   \n",
       "7813725    26081                      Yasuji no Pornorama Yacchimae  Hentai   \n",
       "7813726    26081                      Yasuji no Pornorama Yacchimae  Hentai   \n",
       "\n",
       "          type episodes  avg_rating  members user_id  user_rating  \n",
       "7813722    OVA        1    4.980000      175   39532           -1  \n",
       "7813723    OVA        1    4.980000      175   48766           -1  \n",
       "7813724    OVA        1    4.980000      175   60365            4  \n",
       "7813725  Movie        1    5.460000      142   27364           -1  \n",
       "7813726  Movie        1    5.460000      142   48766           -1  "
      ]
     },
     "execution_count": 81,
     "metadata": {},
     "output_type": "execute_result"
    }
   ],
   "source": [
    "anime_rating.tail()"
   ]
  },
  {
   "cell_type": "markdown",
   "metadata": {
    "id": "xxMKBpBYZlkB"
   },
   "source": [
    "**The last 5 index values range from 7813722-7813726 but I have only 7813604 records thus the indexes need to be reset**"
   ]
  },
  {
   "cell_type": "code",
   "execution_count": 82,
   "metadata": {
    "colab": {
     "base_uri": "https://localhost:8080/",
     "height": 0
    },
    "execution": {
     "iopub.execute_input": "2021-07-19T09:26:21.911429Z",
     "iopub.status.busy": "2021-07-19T09:26:21.911130Z",
     "iopub.status.idle": "2021-07-19T09:26:21.933492Z",
     "shell.execute_reply": "2021-07-19T09:26:21.932342Z",
     "shell.execute_reply.started": "2021-07-19T09:26:21.911387Z"
    },
    "id": "A5LDiLdQZlkB",
    "outputId": "9c477a2a-aa51-4436-d77e-7508ee64d754"
   },
   "outputs": [
    {
     "data": {
      "text/html": [
       "<div>\n",
       "<style scoped>\n",
       "    .dataframe tbody tr th:only-of-type {\n",
       "        vertical-align: middle;\n",
       "    }\n",
       "\n",
       "    .dataframe tbody tr th {\n",
       "        vertical-align: top;\n",
       "    }\n",
       "\n",
       "    .dataframe thead th {\n",
       "        text-align: right;\n",
       "    }\n",
       "</style>\n",
       "<table border=\"1\" class=\"dataframe\">\n",
       "  <thead>\n",
       "    <tr style=\"text-align: right;\">\n",
       "      <th></th>\n",
       "      <th>anime_id</th>\n",
       "      <th>name</th>\n",
       "      <th>genre</th>\n",
       "      <th>type</th>\n",
       "      <th>episodes</th>\n",
       "      <th>avg_rating</th>\n",
       "      <th>members</th>\n",
       "      <th>user_id</th>\n",
       "      <th>user_rating</th>\n",
       "    </tr>\n",
       "  </thead>\n",
       "  <tbody>\n",
       "    <tr>\n",
       "      <th>7813595</th>\n",
       "      <td>6133</td>\n",
       "      <td>Violence Gekiga Shin David no Hoshi Inma Densetsu</td>\n",
       "      <td>Hentai</td>\n",
       "      <td>OVA</td>\n",
       "      <td>1</td>\n",
       "      <td>4.980000</td>\n",
       "      <td>175</td>\n",
       "      <td>39532</td>\n",
       "      <td>-1</td>\n",
       "    </tr>\n",
       "    <tr>\n",
       "      <th>7813596</th>\n",
       "      <td>6133</td>\n",
       "      <td>Violence Gekiga Shin David no Hoshi Inma Densetsu</td>\n",
       "      <td>Hentai</td>\n",
       "      <td>OVA</td>\n",
       "      <td>1</td>\n",
       "      <td>4.980000</td>\n",
       "      <td>175</td>\n",
       "      <td>48766</td>\n",
       "      <td>-1</td>\n",
       "    </tr>\n",
       "    <tr>\n",
       "      <th>7813597</th>\n",
       "      <td>6133</td>\n",
       "      <td>Violence Gekiga Shin David no Hoshi Inma Densetsu</td>\n",
       "      <td>Hentai</td>\n",
       "      <td>OVA</td>\n",
       "      <td>1</td>\n",
       "      <td>4.980000</td>\n",
       "      <td>175</td>\n",
       "      <td>60365</td>\n",
       "      <td>4</td>\n",
       "    </tr>\n",
       "    <tr>\n",
       "      <th>7813598</th>\n",
       "      <td>26081</td>\n",
       "      <td>Yasuji no Pornorama Yacchimae</td>\n",
       "      <td>Hentai</td>\n",
       "      <td>Movie</td>\n",
       "      <td>1</td>\n",
       "      <td>5.460000</td>\n",
       "      <td>142</td>\n",
       "      <td>27364</td>\n",
       "      <td>-1</td>\n",
       "    </tr>\n",
       "    <tr>\n",
       "      <th>7813599</th>\n",
       "      <td>26081</td>\n",
       "      <td>Yasuji no Pornorama Yacchimae</td>\n",
       "      <td>Hentai</td>\n",
       "      <td>Movie</td>\n",
       "      <td>1</td>\n",
       "      <td>5.460000</td>\n",
       "      <td>142</td>\n",
       "      <td>48766</td>\n",
       "      <td>-1</td>\n",
       "    </tr>\n",
       "  </tbody>\n",
       "</table>\n",
       "</div>"
      ],
      "text/plain": [
       "        anime_id                                               name   genre  \\\n",
       "7813595     6133  Violence Gekiga Shin David no Hoshi Inma Densetsu  Hentai   \n",
       "7813596     6133  Violence Gekiga Shin David no Hoshi Inma Densetsu  Hentai   \n",
       "7813597     6133  Violence Gekiga Shin David no Hoshi Inma Densetsu  Hentai   \n",
       "7813598    26081                      Yasuji no Pornorama Yacchimae  Hentai   \n",
       "7813599    26081                      Yasuji no Pornorama Yacchimae  Hentai   \n",
       "\n",
       "          type episodes  avg_rating  members user_id  user_rating  \n",
       "7813595    OVA        1    4.980000      175   39532           -1  \n",
       "7813596    OVA        1    4.980000      175   48766           -1  \n",
       "7813597    OVA        1    4.980000      175   60365            4  \n",
       "7813598  Movie        1    5.460000      142   27364           -1  \n",
       "7813599  Movie        1    5.460000      142   48766           -1  "
      ]
     },
     "execution_count": 82,
     "metadata": {},
     "output_type": "execute_result"
    }
   ],
   "source": [
    "anime_rating.reset_index(drop=True,inplace=True)\n",
    "anime_rating.tail()"
   ]
  },
  {
   "cell_type": "markdown",
   "metadata": {
    "id": "i9LO4U0KZlkC"
   },
   "source": [
    "###Final Dataset <a id='final_dataset'></a>"
   ]
  },
  {
   "cell_type": "code",
   "execution_count": 83,
   "metadata": {
    "colab": {
     "base_uri": "https://localhost:8080/"
    },
    "execution": {
     "iopub.execute_input": "2021-07-19T09:26:21.936023Z",
     "iopub.status.busy": "2021-07-19T09:26:21.935581Z",
     "iopub.status.idle": "2021-07-19T09:26:21.942750Z",
     "shell.execute_reply": "2021-07-19T09:26:21.941556Z",
     "shell.execute_reply.started": "2021-07-19T09:26:21.935977Z"
    },
    "id": "pjp3JrXSZlkD",
    "outputId": "e0974b23-fa2f-412d-8a11-a9bf9fc847cd"
   },
   "outputs": [
    {
     "data": {
      "text/plain": [
       "(7813600, 9)"
      ]
     },
     "execution_count": 83,
     "metadata": {},
     "output_type": "execute_result"
    }
   ],
   "source": [
    "anime_rating.shape"
   ]
  },
  {
   "cell_type": "code",
   "execution_count": 84,
   "metadata": {
    "colab": {
     "base_uri": "https://localhost:8080/",
     "height": 0
    },
    "execution": {
     "iopub.execute_input": "2021-07-19T09:26:21.944703Z",
     "iopub.status.busy": "2021-07-19T09:26:21.944306Z",
     "iopub.status.idle": "2021-07-19T09:26:21.963011Z",
     "shell.execute_reply": "2021-07-19T09:26:21.961910Z",
     "shell.execute_reply.started": "2021-07-19T09:26:21.944670Z"
    },
    "id": "uYdMTqMGZlkD",
    "outputId": "0d4665c7-8efb-4fef-f473-5a1a6d39c0b9"
   },
   "outputs": [
    {
     "data": {
      "text/html": [
       "<div>\n",
       "<style scoped>\n",
       "    .dataframe tbody tr th:only-of-type {\n",
       "        vertical-align: middle;\n",
       "    }\n",
       "\n",
       "    .dataframe tbody tr th {\n",
       "        vertical-align: top;\n",
       "    }\n",
       "\n",
       "    .dataframe thead th {\n",
       "        text-align: right;\n",
       "    }\n",
       "</style>\n",
       "<table border=\"1\" class=\"dataframe\">\n",
       "  <thead>\n",
       "    <tr style=\"text-align: right;\">\n",
       "      <th></th>\n",
       "      <th>anime_id</th>\n",
       "      <th>name</th>\n",
       "      <th>genre</th>\n",
       "      <th>type</th>\n",
       "      <th>episodes</th>\n",
       "      <th>avg_rating</th>\n",
       "      <th>members</th>\n",
       "      <th>user_id</th>\n",
       "      <th>user_rating</th>\n",
       "    </tr>\n",
       "  </thead>\n",
       "  <tbody>\n",
       "    <tr>\n",
       "      <th>0</th>\n",
       "      <td>32281</td>\n",
       "      <td>Kimi no Na wa</td>\n",
       "      <td>Drama, Romance, School, Supernatural</td>\n",
       "      <td>Movie</td>\n",
       "      <td>1</td>\n",
       "      <td>9.370000</td>\n",
       "      <td>200630</td>\n",
       "      <td>99</td>\n",
       "      <td>5</td>\n",
       "    </tr>\n",
       "    <tr>\n",
       "      <th>1</th>\n",
       "      <td>32281</td>\n",
       "      <td>Kimi no Na wa</td>\n",
       "      <td>Drama, Romance, School, Supernatural</td>\n",
       "      <td>Movie</td>\n",
       "      <td>1</td>\n",
       "      <td>9.370000</td>\n",
       "      <td>200630</td>\n",
       "      <td>152</td>\n",
       "      <td>10</td>\n",
       "    </tr>\n",
       "    <tr>\n",
       "      <th>2</th>\n",
       "      <td>32281</td>\n",
       "      <td>Kimi no Na wa</td>\n",
       "      <td>Drama, Romance, School, Supernatural</td>\n",
       "      <td>Movie</td>\n",
       "      <td>1</td>\n",
       "      <td>9.370000</td>\n",
       "      <td>200630</td>\n",
       "      <td>244</td>\n",
       "      <td>10</td>\n",
       "    </tr>\n",
       "    <tr>\n",
       "      <th>3</th>\n",
       "      <td>32281</td>\n",
       "      <td>Kimi no Na wa</td>\n",
       "      <td>Drama, Romance, School, Supernatural</td>\n",
       "      <td>Movie</td>\n",
       "      <td>1</td>\n",
       "      <td>9.370000</td>\n",
       "      <td>200630</td>\n",
       "      <td>271</td>\n",
       "      <td>10</td>\n",
       "    </tr>\n",
       "    <tr>\n",
       "      <th>4</th>\n",
       "      <td>32281</td>\n",
       "      <td>Kimi no Na wa</td>\n",
       "      <td>Drama, Romance, School, Supernatural</td>\n",
       "      <td>Movie</td>\n",
       "      <td>1</td>\n",
       "      <td>9.370000</td>\n",
       "      <td>200630</td>\n",
       "      <td>278</td>\n",
       "      <td>-1</td>\n",
       "    </tr>\n",
       "  </tbody>\n",
       "</table>\n",
       "</div>"
      ],
      "text/plain": [
       "  anime_id           name                                 genre   type  \\\n",
       "0    32281  Kimi no Na wa  Drama, Romance, School, Supernatural  Movie   \n",
       "1    32281  Kimi no Na wa  Drama, Romance, School, Supernatural  Movie   \n",
       "2    32281  Kimi no Na wa  Drama, Romance, School, Supernatural  Movie   \n",
       "3    32281  Kimi no Na wa  Drama, Romance, School, Supernatural  Movie   \n",
       "4    32281  Kimi no Na wa  Drama, Romance, School, Supernatural  Movie   \n",
       "\n",
       "  episodes  avg_rating  members user_id  user_rating  \n",
       "0        1    9.370000   200630      99            5  \n",
       "1        1    9.370000   200630     152           10  \n",
       "2        1    9.370000   200630     244           10  \n",
       "3        1    9.370000   200630     271           10  \n",
       "4        1    9.370000   200630     278           -1  "
      ]
     },
     "execution_count": 84,
     "metadata": {},
     "output_type": "execute_result"
    }
   ],
   "source": [
    "anime_rating.head()"
   ]
  },
  {
   "cell_type": "markdown",
   "metadata": {
    "id": "sJ6F565YZlkE"
   },
   "source": [
    "The final dataset has **7813604 records and 9 features with no missing and duplicate values**"
   ]
  },
  {
   "cell_type": "markdown",
   "metadata": {
    "id": "v_5Ia0uxZlkF"
   },
   "source": [
    "##Analysing and Understanding the Dataset <a id='Data_Understanding'></a>"
   ]
  },
  {
   "cell_type": "markdown",
   "metadata": {
    "id": "CoxEWdvbZlkF"
   },
   "source": [
    "###Summary Statistics <a id='Summary_Statistics'></a>"
   ]
  },
  {
   "cell_type": "markdown",
   "metadata": {
    "id": "eoWImWUXZlkG"
   },
   "source": [
    "**Numeric Variables**"
   ]
  },
  {
   "cell_type": "code",
   "execution_count": 85,
   "metadata": {
    "colab": {
     "base_uri": "https://localhost:8080/",
     "height": 0
    },
    "execution": {
     "iopub.execute_input": "2021-07-19T09:26:21.965019Z",
     "iopub.status.busy": "2021-07-19T09:26:21.964537Z",
     "iopub.status.idle": "2021-07-19T09:26:22.894303Z",
     "shell.execute_reply": "2021-07-19T09:26:22.893315Z",
     "shell.execute_reply.started": "2021-07-19T09:26:21.964979Z"
    },
    "id": "31nkfgqKZlkG",
    "outputId": "f7c5b422-c5d8-43d8-b455-5cdb9497daad"
   },
   "outputs": [
    {
     "data": {
      "text/html": [
       "<div>\n",
       "<style scoped>\n",
       "    .dataframe tbody tr th:only-of-type {\n",
       "        vertical-align: middle;\n",
       "    }\n",
       "\n",
       "    .dataframe tbody tr th {\n",
       "        vertical-align: top;\n",
       "    }\n",
       "\n",
       "    .dataframe thead th {\n",
       "        text-align: right;\n",
       "    }\n",
       "</style>\n",
       "<table border=\"1\" class=\"dataframe\">\n",
       "  <thead>\n",
       "    <tr style=\"text-align: right;\">\n",
       "      <th></th>\n",
       "      <th>avg_rating</th>\n",
       "      <th>members</th>\n",
       "      <th>user_rating</th>\n",
       "    </tr>\n",
       "  </thead>\n",
       "  <tbody>\n",
       "    <tr>\n",
       "      <th>count</th>\n",
       "      <td>7813600.000000</td>\n",
       "      <td>7813600.000000</td>\n",
       "      <td>7813600.000000</td>\n",
       "    </tr>\n",
       "    <tr>\n",
       "      <th>mean</th>\n",
       "      <td>7.653158</td>\n",
       "      <td>178623.070445</td>\n",
       "      <td>6.144076</td>\n",
       "    </tr>\n",
       "    <tr>\n",
       "      <th>std</th>\n",
       "      <td>0.672974</td>\n",
       "      <td>188176.081851</td>\n",
       "      <td>3.727792</td>\n",
       "    </tr>\n",
       "    <tr>\n",
       "      <th>min</th>\n",
       "      <td>1.670000</td>\n",
       "      <td>29.000000</td>\n",
       "      <td>-1.000000</td>\n",
       "    </tr>\n",
       "    <tr>\n",
       "      <th>25%</th>\n",
       "      <td>7.270000</td>\n",
       "      <td>44030.000000</td>\n",
       "      <td>6.000000</td>\n",
       "    </tr>\n",
       "    <tr>\n",
       "      <th>50%</th>\n",
       "      <td>7.680000</td>\n",
       "      <td>110470.000000</td>\n",
       "      <td>7.000000</td>\n",
       "    </tr>\n",
       "    <tr>\n",
       "      <th>75%</th>\n",
       "      <td>8.130000</td>\n",
       "      <td>244268.000000</td>\n",
       "      <td>9.000000</td>\n",
       "    </tr>\n",
       "    <tr>\n",
       "      <th>max</th>\n",
       "      <td>9.500000</td>\n",
       "      <td>1013917.000000</td>\n",
       "      <td>10.000000</td>\n",
       "    </tr>\n",
       "  </tbody>\n",
       "</table>\n",
       "</div>"
      ],
      "text/plain": [
       "          avg_rating        members    user_rating\n",
       "count 7813600.000000 7813600.000000 7813600.000000\n",
       "mean        7.653158  178623.070445       6.144076\n",
       "std         0.672974  188176.081851       3.727792\n",
       "min         1.670000      29.000000      -1.000000\n",
       "25%         7.270000   44030.000000       6.000000\n",
       "50%         7.680000  110470.000000       7.000000\n",
       "75%         8.130000  244268.000000       9.000000\n",
       "max         9.500000 1013917.000000      10.000000"
      ]
     },
     "execution_count": 85,
     "metadata": {},
     "output_type": "execute_result"
    }
   ],
   "source": [
    "anime_rating.describe()"
   ]
  },
  {
   "cell_type": "markdown",
   "metadata": {
    "id": "4e2XLEWBZlkH"
   },
   "source": [
    "From the above table , I can infer:\n",
    "\n",
    "1. The minimum avg_rating is 1.67 and the maximum avg_rating is 9.5.\n",
    "\n",
    "2. The number of members ranges from 29 to 1013917.\n",
    "\n",
    "3. Users rating ranges from -1 to 10. So, I will replace -1 with NaN and drop the rows."
   ]
  },
  {
   "cell_type": "code",
   "execution_count": 86,
   "metadata": {
    "colab": {
     "base_uri": "https://localhost:8080/"
    },
    "execution": {
     "iopub.execute_input": "2021-07-19T09:26:22.896116Z",
     "iopub.status.busy": "2021-07-19T09:26:22.895811Z",
     "iopub.status.idle": "2021-07-19T09:26:23.197878Z",
     "shell.execute_reply": "2021-07-19T09:26:23.196430Z",
     "shell.execute_reply.started": "2021-07-19T09:26:22.896087Z"
    },
    "id": "BOOl7x6EZlkH",
    "outputId": "3fb5fb86-00d0-40eb-d66a-dc5701c48766"
   },
   "outputs": [
    {
     "data": {
      "text/plain": [
       "(1476463, 9)"
      ]
     },
     "execution_count": 86,
     "metadata": {},
     "output_type": "execute_result"
    }
   ],
   "source": [
    "anime_rating[anime_rating.user_rating==-1].shape"
   ]
  },
  {
   "cell_type": "code",
   "execution_count": 87,
   "metadata": {
    "execution": {
     "iopub.execute_input": "2021-07-19T09:26:23.200489Z",
     "iopub.status.busy": "2021-07-19T09:26:23.200166Z",
     "iopub.status.idle": "2021-07-19T09:26:23.298370Z",
     "shell.execute_reply": "2021-07-19T09:26:23.297350Z",
     "shell.execute_reply.started": "2021-07-19T09:26:23.200460Z"
    },
    "id": "EOh-2A0JZlkI"
   },
   "outputs": [],
   "source": [
    "anime_rating.user_rating.replace({-1:np.nan},inplace=True)"
   ]
  },
  {
   "cell_type": "code",
   "execution_count": 88,
   "metadata": {
    "execution": {
     "iopub.execute_input": "2021-07-19T09:26:27.892940Z",
     "iopub.status.busy": "2021-07-19T09:26:27.892534Z",
     "iopub.status.idle": "2021-07-19T09:26:33.293611Z",
     "shell.execute_reply": "2021-07-19T09:26:33.292327Z",
     "shell.execute_reply.started": "2021-07-19T09:26:27.892904Z"
    },
    "id": "bdQG4gcDZlkJ"
   },
   "outputs": [],
   "source": [
    "anime_rating.dropna(inplace=True)"
   ]
  },
  {
   "cell_type": "code",
   "execution_count": 89,
   "metadata": {
    "colab": {
     "base_uri": "https://localhost:8080/"
    },
    "execution": {
     "iopub.execute_input": "2021-07-19T09:26:33.295528Z",
     "iopub.status.busy": "2021-07-19T09:26:33.295041Z",
     "iopub.status.idle": "2021-07-19T09:26:37.057134Z",
     "shell.execute_reply": "2021-07-19T09:26:37.055695Z",
     "shell.execute_reply.started": "2021-07-19T09:26:33.295482Z"
    },
    "id": "SzwBbKKbZlkJ",
    "outputId": "09a9039d-2dac-4638-ca5b-c3faac34ec51"
   },
   "outputs": [
    {
     "data": {
      "text/plain": [
       "anime_id       0\n",
       "name           0\n",
       "genre          0\n",
       "type           0\n",
       "episodes       0\n",
       "avg_rating     0\n",
       "members        0\n",
       "user_id        0\n",
       "user_rating    0\n",
       "dtype: int64"
      ]
     },
     "execution_count": 89,
     "metadata": {},
     "output_type": "execute_result"
    }
   ],
   "source": [
    "anime_rating.isnull().sum()"
   ]
  },
  {
   "cell_type": "code",
   "execution_count": 90,
   "metadata": {
    "colab": {
     "base_uri": "https://localhost:8080/"
    },
    "execution": {
     "iopub.execute_input": "2021-07-19T09:26:37.059021Z",
     "iopub.status.busy": "2021-07-19T09:26:37.058684Z",
     "iopub.status.idle": "2021-07-19T09:26:37.065943Z",
     "shell.execute_reply": "2021-07-19T09:26:37.064664Z",
     "shell.execute_reply.started": "2021-07-19T09:26:37.058989Z"
    },
    "id": "ulIctJQHZlkJ",
    "outputId": "c07d5c2c-ec76-4e59-dd1f-75b1d0c6148c"
   },
   "outputs": [
    {
     "data": {
      "text/plain": [
       "(6337137, 9)"
      ]
     },
     "execution_count": 90,
     "metadata": {},
     "output_type": "execute_result"
    }
   ],
   "source": [
    "anime_rating.shape"
   ]
  },
  {
   "cell_type": "code",
   "execution_count": 91,
   "metadata": {
    "colab": {
     "base_uri": "https://localhost:8080/",
     "height": 0
    },
    "execution": {
     "iopub.execute_input": "2021-07-19T09:26:37.068444Z",
     "iopub.status.busy": "2021-07-19T09:26:37.067879Z",
     "iopub.status.idle": "2021-07-19T09:26:37.808136Z",
     "shell.execute_reply": "2021-07-19T09:26:37.806874Z",
     "shell.execute_reply.started": "2021-07-19T09:26:37.068343Z"
    },
    "id": "FSCT1tpqZlkK",
    "outputId": "5d34bdb7-9dd7-4f37-8d5e-cef618870708"
   },
   "outputs": [
    {
     "data": {
      "text/html": [
       "<div>\n",
       "<style scoped>\n",
       "    .dataframe tbody tr th:only-of-type {\n",
       "        vertical-align: middle;\n",
       "    }\n",
       "\n",
       "    .dataframe tbody tr th {\n",
       "        vertical-align: top;\n",
       "    }\n",
       "\n",
       "    .dataframe thead th {\n",
       "        text-align: right;\n",
       "    }\n",
       "</style>\n",
       "<table border=\"1\" class=\"dataframe\">\n",
       "  <thead>\n",
       "    <tr style=\"text-align: right;\">\n",
       "      <th></th>\n",
       "      <th>avg_rating</th>\n",
       "      <th>members</th>\n",
       "      <th>user_rating</th>\n",
       "    </tr>\n",
       "  </thead>\n",
       "  <tbody>\n",
       "    <tr>\n",
       "      <th>count</th>\n",
       "      <td>6337137.000000</td>\n",
       "      <td>6337137.000000</td>\n",
       "      <td>6337137.000000</td>\n",
       "    </tr>\n",
       "    <tr>\n",
       "      <th>mean</th>\n",
       "      <td>7.675014</td>\n",
       "      <td>184576.391914</td>\n",
       "      <td>7.808545</td>\n",
       "    </tr>\n",
       "    <tr>\n",
       "      <th>std</th>\n",
       "      <td>0.669904</td>\n",
       "      <td>190952.794333</td>\n",
       "      <td>1.572436</td>\n",
       "    </tr>\n",
       "    <tr>\n",
       "      <th>min</th>\n",
       "      <td>2.000000</td>\n",
       "      <td>33.000000</td>\n",
       "      <td>1.000000</td>\n",
       "    </tr>\n",
       "    <tr>\n",
       "      <th>25%</th>\n",
       "      <td>7.290000</td>\n",
       "      <td>46803.000000</td>\n",
       "      <td>7.000000</td>\n",
       "    </tr>\n",
       "    <tr>\n",
       "      <th>50%</th>\n",
       "      <td>7.700000</td>\n",
       "      <td>117091.000000</td>\n",
       "      <td>8.000000</td>\n",
       "    </tr>\n",
       "    <tr>\n",
       "      <th>75%</th>\n",
       "      <td>8.150000</td>\n",
       "      <td>256325.000000</td>\n",
       "      <td>9.000000</td>\n",
       "    </tr>\n",
       "    <tr>\n",
       "      <th>max</th>\n",
       "      <td>9.370000</td>\n",
       "      <td>1013917.000000</td>\n",
       "      <td>10.000000</td>\n",
       "    </tr>\n",
       "  </tbody>\n",
       "</table>\n",
       "</div>"
      ],
      "text/plain": [
       "          avg_rating        members    user_rating\n",
       "count 6337137.000000 6337137.000000 6337137.000000\n",
       "mean        7.675014  184576.391914       7.808545\n",
       "std         0.669904  190952.794333       1.572436\n",
       "min         2.000000      33.000000       1.000000\n",
       "25%         7.290000   46803.000000       7.000000\n",
       "50%         7.700000  117091.000000       8.000000\n",
       "75%         8.150000  256325.000000       9.000000\n",
       "max         9.370000 1013917.000000      10.000000"
      ]
     },
     "execution_count": 91,
     "metadata": {},
     "output_type": "execute_result"
    }
   ],
   "source": [
    "anime_rating.describe()"
   ]
  },
  {
   "cell_type": "markdown",
   "metadata": {
    "id": "xgGgpNsHZlkK"
   },
   "source": [
    "**Interpretation:**\n",
    "\n",
    "1. The minimum avg_rating is 2 and the maximum avg_rating is 9.37.\n",
    "\n",
    "2. The number of members ranges from 33 to 1013917.\n",
    "\n",
    "3. Users rating ranges from 1 to 10."
   ]
  },
  {
   "cell_type": "markdown",
   "metadata": {
    "id": "7-LJdWrbZlkL"
   },
   "source": [
    "**Categorical Variables**"
   ]
  },
  {
   "cell_type": "code",
   "execution_count": 92,
   "metadata": {
    "colab": {
     "base_uri": "https://localhost:8080/",
     "height": 0
    },
    "execution": {
     "iopub.execute_input": "2021-07-19T09:26:37.809737Z",
     "iopub.status.busy": "2021-07-19T09:26:37.809395Z",
     "iopub.status.idle": "2021-07-19T09:26:50.440723Z",
     "shell.execute_reply": "2021-07-19T09:26:50.439737Z",
     "shell.execute_reply.started": "2021-07-19T09:26:37.809705Z"
    },
    "id": "5Pvu0GFOZlkL",
    "outputId": "2d87a96d-91cd-464a-9eb5-16d8caa9f19a"
   },
   "outputs": [
    {
     "data": {
      "text/html": [
       "<div>\n",
       "<style scoped>\n",
       "    .dataframe tbody tr th:only-of-type {\n",
       "        vertical-align: middle;\n",
       "    }\n",
       "\n",
       "    .dataframe tbody tr th {\n",
       "        vertical-align: top;\n",
       "    }\n",
       "\n",
       "    .dataframe thead th {\n",
       "        text-align: right;\n",
       "    }\n",
       "</style>\n",
       "<table border=\"1\" class=\"dataframe\">\n",
       "  <thead>\n",
       "    <tr style=\"text-align: right;\">\n",
       "      <th></th>\n",
       "      <th>anime_id</th>\n",
       "      <th>name</th>\n",
       "      <th>genre</th>\n",
       "      <th>type</th>\n",
       "      <th>episodes</th>\n",
       "      <th>user_id</th>\n",
       "    </tr>\n",
       "  </thead>\n",
       "  <tbody>\n",
       "    <tr>\n",
       "      <th>count</th>\n",
       "      <td>6337137</td>\n",
       "      <td>6337137</td>\n",
       "      <td>6337137</td>\n",
       "      <td>6337137</td>\n",
       "      <td>6337137</td>\n",
       "      <td>6337137</td>\n",
       "    </tr>\n",
       "    <tr>\n",
       "      <th>unique</th>\n",
       "      <td>9890</td>\n",
       "      <td>9869</td>\n",
       "      <td>3048</td>\n",
       "      <td>6</td>\n",
       "      <td>177</td>\n",
       "      <td>69600</td>\n",
       "    </tr>\n",
       "    <tr>\n",
       "      <th>top</th>\n",
       "      <td>1535</td>\n",
       "      <td>Death Note</td>\n",
       "      <td>Comedy, School, Slice of Life</td>\n",
       "      <td>TV</td>\n",
       "      <td>12</td>\n",
       "      <td>42635</td>\n",
       "    </tr>\n",
       "    <tr>\n",
       "      <th>freq</th>\n",
       "      <td>34226</td>\n",
       "      <td>34226</td>\n",
       "      <td>49850</td>\n",
       "      <td>4364286</td>\n",
       "      <td>1420729</td>\n",
       "      <td>3747</td>\n",
       "    </tr>\n",
       "  </tbody>\n",
       "</table>\n",
       "</div>"
      ],
      "text/plain": [
       "        anime_id        name                          genre     type episodes  \\\n",
       "count    6337137     6337137                        6337137  6337137  6337137   \n",
       "unique      9890        9869                           3048        6      177   \n",
       "top         1535  Death Note  Comedy, School, Slice of Life       TV       12   \n",
       "freq       34226       34226                          49850  4364286  1420729   \n",
       "\n",
       "        user_id  \n",
       "count   6337137  \n",
       "unique    69600  \n",
       "top       42635  \n",
       "freq       3747  "
      ]
     },
     "execution_count": 92,
     "metadata": {},
     "output_type": "execute_result"
    }
   ],
   "source": [
    "anime_rating.describe(include='object')"
   ]
  },
  {
   "cell_type": "markdown",
   "metadata": {
    "id": "pDUtL9WXZlkM"
   },
   "source": [
    "From the above table, I can infer:\n",
    "    \n",
    "1. There are `9892` unique anime_id and the most watched anime id is `1535` with frequency `34226`.\n",
    "\n",
    "2. There are `9892` anime names and the most watched anime name is `Death Note`and `34226` users have been watched.\n",
    "\n",
    "3. There are `3048` unique genres and `Comedy, School, Slice of Life` is the most repeated genre with frequency `49850`.\n",
    "\n",
    "4. There are `6` unique values in type attribute and most of type is `TV` with frequency `4364293`.\n",
    "\n",
    "5. Episodes specify the episode number of that particular anime.\n",
    "\n",
    "6. There are `69600` users and the user with user_id `42635` is the top most user who have watched most of the animes.i.e. `3747` animes. "
   ]
  },
  {
   "cell_type": "markdown",
   "metadata": {
    "id": "HSc7LYZIZllB"
   },
   "source": [
    "#Recommendation system <a id='rec_sys'></a>"
   ]
  },
  {
   "cell_type": "markdown",
   "metadata": {
    "id": "3zj9QbVRZllB"
   },
   "source": [
    "##Popularity Based recommendation system <a id='pop'></a>"
   ]
  },
  {
   "cell_type": "code",
   "execution_count": 93,
   "metadata": {},
   "outputs": [],
   "source": [
    "anime_rating_count = anime_rating.groupby(by = ['name'])['user_rating'].count().reset_index()[['name', 'user_rating']]\n",
    "anime_rating_count.rename(columns = {'user_rating': 'totalRatingCount'},inplace=True)"
   ]
  },
  {
   "cell_type": "code",
   "execution_count": 94,
   "metadata": {
    "colab": {
     "base_uri": "https://localhost:8080/",
     "height": 206
    },
    "execution": {
     "iopub.execute_input": "2021-07-19T09:30:26.953085Z",
     "iopub.status.busy": "2021-07-19T09:30:26.952715Z",
     "iopub.status.idle": "2021-07-19T09:30:26.973105Z",
     "shell.execute_reply": "2021-07-19T09:30:26.972154Z",
     "shell.execute_reply.started": "2021-07-19T09:30:26.953052Z"
    },
    "id": "HE7cqbMjZllC",
    "outputId": "76add513-bd74-4347-9eb6-3a6c678da5c4"
   },
   "outputs": [
    {
     "data": {
      "text/html": [
       "<div>\n",
       "<style scoped>\n",
       "    .dataframe tbody tr th:only-of-type {\n",
       "        vertical-align: middle;\n",
       "    }\n",
       "\n",
       "    .dataframe tbody tr th {\n",
       "        vertical-align: top;\n",
       "    }\n",
       "\n",
       "    .dataframe thead th {\n",
       "        text-align: right;\n",
       "    }\n",
       "</style>\n",
       "<table border=\"1\" class=\"dataframe\">\n",
       "  <thead>\n",
       "    <tr style=\"text-align: right;\">\n",
       "      <th></th>\n",
       "      <th>anime_id</th>\n",
       "      <th>name</th>\n",
       "      <th>genre</th>\n",
       "      <th>type</th>\n",
       "      <th>episodes</th>\n",
       "      <th>avg_rating</th>\n",
       "      <th>members</th>\n",
       "      <th>user_id</th>\n",
       "      <th>user_rating</th>\n",
       "      <th>totalRatingCount</th>\n",
       "    </tr>\n",
       "  </thead>\n",
       "  <tbody>\n",
       "    <tr>\n",
       "      <th>0</th>\n",
       "      <td>32281</td>\n",
       "      <td>Kimi no Na wa</td>\n",
       "      <td>Drama, Romance, School, Supernatural</td>\n",
       "      <td>Movie</td>\n",
       "      <td>1</td>\n",
       "      <td>9.370000</td>\n",
       "      <td>200630</td>\n",
       "      <td>99</td>\n",
       "      <td>5.000000</td>\n",
       "      <td>1961</td>\n",
       "    </tr>\n",
       "    <tr>\n",
       "      <th>1</th>\n",
       "      <td>32281</td>\n",
       "      <td>Kimi no Na wa</td>\n",
       "      <td>Drama, Romance, School, Supernatural</td>\n",
       "      <td>Movie</td>\n",
       "      <td>1</td>\n",
       "      <td>9.370000</td>\n",
       "      <td>200630</td>\n",
       "      <td>152</td>\n",
       "      <td>10.000000</td>\n",
       "      <td>1961</td>\n",
       "    </tr>\n",
       "    <tr>\n",
       "      <th>2</th>\n",
       "      <td>32281</td>\n",
       "      <td>Kimi no Na wa</td>\n",
       "      <td>Drama, Romance, School, Supernatural</td>\n",
       "      <td>Movie</td>\n",
       "      <td>1</td>\n",
       "      <td>9.370000</td>\n",
       "      <td>200630</td>\n",
       "      <td>244</td>\n",
       "      <td>10.000000</td>\n",
       "      <td>1961</td>\n",
       "    </tr>\n",
       "    <tr>\n",
       "      <th>3</th>\n",
       "      <td>32281</td>\n",
       "      <td>Kimi no Na wa</td>\n",
       "      <td>Drama, Romance, School, Supernatural</td>\n",
       "      <td>Movie</td>\n",
       "      <td>1</td>\n",
       "      <td>9.370000</td>\n",
       "      <td>200630</td>\n",
       "      <td>271</td>\n",
       "      <td>10.000000</td>\n",
       "      <td>1961</td>\n",
       "    </tr>\n",
       "    <tr>\n",
       "      <th>4</th>\n",
       "      <td>32281</td>\n",
       "      <td>Kimi no Na wa</td>\n",
       "      <td>Drama, Romance, School, Supernatural</td>\n",
       "      <td>Movie</td>\n",
       "      <td>1</td>\n",
       "      <td>9.370000</td>\n",
       "      <td>200630</td>\n",
       "      <td>322</td>\n",
       "      <td>10.000000</td>\n",
       "      <td>1961</td>\n",
       "    </tr>\n",
       "  </tbody>\n",
       "</table>\n",
       "</div>"
      ],
      "text/plain": [
       "  anime_id           name                                 genre   type  \\\n",
       "0    32281  Kimi no Na wa  Drama, Romance, School, Supernatural  Movie   \n",
       "1    32281  Kimi no Na wa  Drama, Romance, School, Supernatural  Movie   \n",
       "2    32281  Kimi no Na wa  Drama, Romance, School, Supernatural  Movie   \n",
       "3    32281  Kimi no Na wa  Drama, Romance, School, Supernatural  Movie   \n",
       "4    32281  Kimi no Na wa  Drama, Romance, School, Supernatural  Movie   \n",
       "\n",
       "  episodes  avg_rating  members user_id  user_rating  totalRatingCount  \n",
       "0        1    9.370000   200630      99     5.000000              1961  \n",
       "1        1    9.370000   200630     152    10.000000              1961  \n",
       "2        1    9.370000   200630     244    10.000000              1961  \n",
       "3        1    9.370000   200630     271    10.000000              1961  \n",
       "4        1    9.370000   200630     322    10.000000              1961  "
      ]
     },
     "execution_count": 94,
     "metadata": {},
     "output_type": "execute_result"
    }
   ],
   "source": [
    "anime_rating_data=anime_rating.merge(anime_rating_count, left_on = 'name', right_on = 'name', how = 'left')\n",
    "anime_rating_data.head()"
   ]
  },
  {
   "cell_type": "code",
   "execution_count": 95,
   "metadata": {
    "colab": {
     "base_uri": "https://localhost:8080/",
     "height": 206
    },
    "execution": {
     "iopub.execute_input": "2021-07-19T09:30:26.975515Z",
     "iopub.status.busy": "2021-07-19T09:30:26.975067Z",
     "iopub.status.idle": "2021-07-19T09:30:28.114706Z",
     "shell.execute_reply": "2021-07-19T09:30:28.113656Z",
     "shell.execute_reply.started": "2021-07-19T09:30:26.975470Z"
    },
    "id": "Xy7DHFWoZllD",
    "outputId": "a25977d4-badf-405d-a17d-9910f091fd00"
   },
   "outputs": [
    {
     "data": {
      "text/html": [
       "<div>\n",
       "<style scoped>\n",
       "    .dataframe tbody tr th:only-of-type {\n",
       "        vertical-align: middle;\n",
       "    }\n",
       "\n",
       "    .dataframe tbody tr th {\n",
       "        vertical-align: top;\n",
       "    }\n",
       "\n",
       "    .dataframe thead th {\n",
       "        text-align: right;\n",
       "    }\n",
       "</style>\n",
       "<table border=\"1\" class=\"dataframe\">\n",
       "  <thead>\n",
       "    <tr style=\"text-align: right;\">\n",
       "      <th></th>\n",
       "      <th>anime_id</th>\n",
       "      <th>name</th>\n",
       "      <th>genre</th>\n",
       "      <th>avg_rating</th>\n",
       "      <th>totalRatingCount</th>\n",
       "    </tr>\n",
       "  </thead>\n",
       "  <tbody>\n",
       "    <tr>\n",
       "      <th>0</th>\n",
       "      <td>32281</td>\n",
       "      <td>Kimi no Na wa</td>\n",
       "      <td>Drama, Romance, School, Supernatural</td>\n",
       "      <td>9.370000</td>\n",
       "      <td>1961</td>\n",
       "    </tr>\n",
       "    <tr>\n",
       "      <th>1</th>\n",
       "      <td>5114</td>\n",
       "      <td>Fullmetal Alchemist Brotherhood</td>\n",
       "      <td>Action, Adventure, Drama, Fantasy, Magic, Mili...</td>\n",
       "      <td>9.260000</td>\n",
       "      <td>21494</td>\n",
       "    </tr>\n",
       "    <tr>\n",
       "      <th>2</th>\n",
       "      <td>28977</td>\n",
       "      <td>Gintama°</td>\n",
       "      <td>Action, Comedy, Historical, Parody, Samurai, S...</td>\n",
       "      <td>9.250000</td>\n",
       "      <td>1188</td>\n",
       "    </tr>\n",
       "    <tr>\n",
       "      <th>3</th>\n",
       "      <td>9253</td>\n",
       "      <td>SteinsGate</td>\n",
       "      <td>Sci-Fi, Thriller</td>\n",
       "      <td>9.170000</td>\n",
       "      <td>17151</td>\n",
       "    </tr>\n",
       "    <tr>\n",
       "      <th>4</th>\n",
       "      <td>9969</td>\n",
       "      <td>Gintama039</td>\n",
       "      <td>Action, Comedy, Historical, Parody, Samurai, S...</td>\n",
       "      <td>9.160000</td>\n",
       "      <td>3115</td>\n",
       "    </tr>\n",
       "  </tbody>\n",
       "</table>\n",
       "</div>"
      ],
      "text/plain": [
       "  anime_id                             name  \\\n",
       "0    32281                    Kimi no Na wa   \n",
       "1     5114  Fullmetal Alchemist Brotherhood   \n",
       "2    28977                         Gintama°   \n",
       "3     9253                       SteinsGate   \n",
       "4     9969                       Gintama039   \n",
       "\n",
       "                                               genre  avg_rating  \\\n",
       "0               Drama, Romance, School, Supernatural    9.370000   \n",
       "1  Action, Adventure, Drama, Fantasy, Magic, Mili...    9.260000   \n",
       "2  Action, Comedy, Historical, Parody, Samurai, S...    9.250000   \n",
       "3                                   Sci-Fi, Thriller    9.170000   \n",
       "4  Action, Comedy, Historical, Parody, Samurai, S...    9.160000   \n",
       "\n",
       "   totalRatingCount  \n",
       "0              1961  \n",
       "1             21494  \n",
       "2              1188  \n",
       "3             17151  \n",
       "4              3115  "
      ]
     },
     "execution_count": 95,
     "metadata": {},
     "output_type": "execute_result"
    }
   ],
   "source": [
    "rating1=anime_rating_data[['anime_id','name','genre','avg_rating','totalRatingCount']]\n",
    "rating1.drop_duplicates(subset=['anime_id'],inplace=True)\n",
    "rating1.reset_index(drop=True,inplace=True)\n",
    "rating1.head()"
   ]
  },
  {
   "cell_type": "code",
   "execution_count": 96,
   "metadata": {
    "id": "EHLp9IEtlNSz"
   },
   "outputs": [],
   "source": [
    "def con_recc(df):\n",
    "  print(\"min ratings-count\")\n",
    "  min_count= int(input())\n",
    "  print(\"min rating\")\n",
    "  min_rating= int(input())\n",
    "  dfc = df.copy()\n",
    "  dfc = dfc.loc[(dfc['avg_rating']>=min_rating) & (dfc['totalRatingCount']>=min_count)]\n",
    "  # mean rating across all the animes\n",
    "  return dfc"
   ]
  },
  {
   "cell_type": "code",
   "execution_count": 97,
   "metadata": {
    "colab": {
     "base_uri": "https://localhost:8080/"
    },
    "execution": {
     "iopub.execute_input": "2021-07-19T09:30:28.116671Z",
     "iopub.status.busy": "2021-07-19T09:30:28.116224Z",
     "iopub.status.idle": "2021-07-19T09:30:28.123463Z",
     "shell.execute_reply": "2021-07-19T09:30:28.122297Z",
     "shell.execute_reply.started": "2021-07-19T09:30:28.116626Z"
    },
    "id": "EGPf-R91ZllE",
    "outputId": "0c45c734-f2d2-4166-8211-6fcfd0ca2b77"
   },
   "outputs": [
    {
     "data": {
      "text/plain": [
       "(9890, 5)"
      ]
     },
     "execution_count": 97,
     "metadata": {},
     "output_type": "execute_result"
    }
   ],
   "source": [
    "rating1.shape"
   ]
  },
  {
   "cell_type": "code",
   "execution_count": 98,
   "metadata": {
    "colab": {
     "base_uri": "https://localhost:8080/"
    },
    "execution": {
     "iopub.execute_input": "2021-07-19T09:30:28.125176Z",
     "iopub.status.busy": "2021-07-19T09:30:28.124867Z",
     "iopub.status.idle": "2021-07-19T09:30:28.138337Z",
     "shell.execute_reply": "2021-07-19T09:30:28.137085Z",
     "shell.execute_reply.started": "2021-07-19T09:30:28.125148Z"
    },
    "id": "132QR3ZnZllF",
    "outputId": "7fa045b8-c579-48cc-857a-2a5c5b92768a"
   },
   "outputs": [
    {
     "name": "stdout",
     "output_type": "stream",
     "text": [
      "m:  987.6499999999996 C:  6.592642062689574\n"
     ]
    }
   ],
   "source": [
    "# mean rating across all the animes\n",
    "C = rating1['avg_rating'].mean()\n",
    "# animes having total rate count greater than 85%\n",
    "m = rating1['totalRatingCount'].quantile(0.85)\n",
    "print('m: ', m, 'C: ', C)"
   ]
  },
  {
   "cell_type": "code",
   "execution_count": 99,
   "metadata": {
    "execution": {
     "iopub.execute_input": "2021-07-19T09:30:28.140076Z",
     "iopub.status.busy": "2021-07-19T09:30:28.139721Z",
     "iopub.status.idle": "2021-07-19T09:30:28.146182Z",
     "shell.execute_reply": "2021-07-19T09:30:28.145495Z",
     "shell.execute_reply.started": "2021-07-19T09:30:28.140047Z"
    },
    "id": "LYDJRjlmZllG"
   },
   "outputs": [],
   "source": [
    "def Iighted_rating(x, m=m, C=C):\n",
    "    v = x['totalRatingCount']\n",
    "    R = x['avg_rating']\n",
    "    return (v/(v+m) * R) + (m/(m+v) * C)"
   ]
  },
  {
   "cell_type": "code",
   "execution_count": 100,
   "metadata": {
    "colab": {
     "base_uri": "https://localhost:8080/"
    },
    "execution": {
     "iopub.execute_input": "2021-07-19T09:30:28.147675Z",
     "iopub.status.busy": "2021-07-19T09:30:28.147264Z",
     "iopub.status.idle": "2021-07-19T09:30:28.163281Z",
     "shell.execute_reply": "2021-07-19T09:30:28.162350Z",
     "shell.execute_reply.started": "2021-07-19T09:30:28.147636Z"
    },
    "id": "RU23E3PdZllH",
    "outputId": "1828da3c-5bf1-4ec6-c001-40f602d85bc6"
   },
   "outputs": [
    {
     "data": {
      "text/plain": [
       "(1484, 5)"
      ]
     },
     "execution_count": 100,
     "metadata": {},
     "output_type": "execute_result"
    }
   ],
   "source": [
    "# animes having total rate count greater than 85% is considered into lists_animes\n",
    "lists_animes =rating1.copy().loc[rating1['totalRatingCount'] >= m]\n",
    "lists_animes.shape"
   ]
  },
  {
   "cell_type": "code",
   "execution_count": 101,
   "metadata": {
    "colab": {
     "base_uri": "https://localhost:8080/",
     "height": 206
    },
    "id": "4VGkgFHR560o",
    "outputId": "007d2c95-f37b-41ed-e21c-e2d0d894c398"
   },
   "outputs": [
    {
     "data": {
      "text/html": [
       "<div>\n",
       "<style scoped>\n",
       "    .dataframe tbody tr th:only-of-type {\n",
       "        vertical-align: middle;\n",
       "    }\n",
       "\n",
       "    .dataframe tbody tr th {\n",
       "        vertical-align: top;\n",
       "    }\n",
       "\n",
       "    .dataframe thead th {\n",
       "        text-align: right;\n",
       "    }\n",
       "</style>\n",
       "<table border=\"1\" class=\"dataframe\">\n",
       "  <thead>\n",
       "    <tr style=\"text-align: right;\">\n",
       "      <th></th>\n",
       "      <th>anime_id</th>\n",
       "      <th>name</th>\n",
       "      <th>genre</th>\n",
       "      <th>avg_rating</th>\n",
       "      <th>totalRatingCount</th>\n",
       "    </tr>\n",
       "  </thead>\n",
       "  <tbody>\n",
       "    <tr>\n",
       "      <th>0</th>\n",
       "      <td>32281</td>\n",
       "      <td>Kimi no Na wa</td>\n",
       "      <td>Drama, Romance, School, Supernatural</td>\n",
       "      <td>9.370000</td>\n",
       "      <td>1961</td>\n",
       "    </tr>\n",
       "    <tr>\n",
       "      <th>1</th>\n",
       "      <td>5114</td>\n",
       "      <td>Fullmetal Alchemist Brotherhood</td>\n",
       "      <td>Action, Adventure, Drama, Fantasy, Magic, Mili...</td>\n",
       "      <td>9.260000</td>\n",
       "      <td>21494</td>\n",
       "    </tr>\n",
       "    <tr>\n",
       "      <th>2</th>\n",
       "      <td>28977</td>\n",
       "      <td>Gintama°</td>\n",
       "      <td>Action, Comedy, Historical, Parody, Samurai, S...</td>\n",
       "      <td>9.250000</td>\n",
       "      <td>1188</td>\n",
       "    </tr>\n",
       "    <tr>\n",
       "      <th>3</th>\n",
       "      <td>9253</td>\n",
       "      <td>SteinsGate</td>\n",
       "      <td>Sci-Fi, Thriller</td>\n",
       "      <td>9.170000</td>\n",
       "      <td>17151</td>\n",
       "    </tr>\n",
       "    <tr>\n",
       "      <th>4</th>\n",
       "      <td>9969</td>\n",
       "      <td>Gintama039</td>\n",
       "      <td>Action, Comedy, Historical, Parody, Samurai, S...</td>\n",
       "      <td>9.160000</td>\n",
       "      <td>3115</td>\n",
       "    </tr>\n",
       "  </tbody>\n",
       "</table>\n",
       "</div>"
      ],
      "text/plain": [
       "  anime_id                             name  \\\n",
       "0    32281                    Kimi no Na wa   \n",
       "1     5114  Fullmetal Alchemist Brotherhood   \n",
       "2    28977                         Gintama°   \n",
       "3     9253                       SteinsGate   \n",
       "4     9969                       Gintama039   \n",
       "\n",
       "                                               genre  avg_rating  \\\n",
       "0               Drama, Romance, School, Supernatural    9.370000   \n",
       "1  Action, Adventure, Drama, Fantasy, Magic, Mili...    9.260000   \n",
       "2  Action, Comedy, Historical, Parody, Samurai, S...    9.250000   \n",
       "3                                   Sci-Fi, Thriller    9.170000   \n",
       "4  Action, Comedy, Historical, Parody, Samurai, S...    9.160000   \n",
       "\n",
       "   totalRatingCount  \n",
       "0              1961  \n",
       "1             21494  \n",
       "2              1188  \n",
       "3             17151  \n",
       "4              3115  "
      ]
     },
     "execution_count": 101,
     "metadata": {},
     "output_type": "execute_result"
    }
   ],
   "source": [
    "lists_animes.head()"
   ]
  },
  {
   "cell_type": "code",
   "execution_count": 102,
   "metadata": {
    "colab": {
     "base_uri": "https://localhost:8080/"
    },
    "id": "0-faNrhu3_tF",
    "outputId": "cb0170fa-b1a3-41d3-f7a3-ec405c6c6e15"
   },
   "outputs": [
    {
     "name": "stdout",
     "output_type": "stream",
     "text": [
      "min ratings-count\n",
      "1200\n",
      "min rating\n",
      "9\n"
     ]
    }
   ],
   "source": [
    "lists_animes=con_recc(lists_animes)"
   ]
  },
  {
   "cell_type": "code",
   "execution_count": 103,
   "metadata": {
    "colab": {
     "base_uri": "https://localhost:8080/",
     "height": 206
    },
    "id": "jHqrKVrr7kfR",
    "outputId": "be045e97-34ca-4cf6-a7e7-06f3fddeb322"
   },
   "outputs": [
    {
     "data": {
      "text/html": [
       "<div>\n",
       "<style scoped>\n",
       "    .dataframe tbody tr th:only-of-type {\n",
       "        vertical-align: middle;\n",
       "    }\n",
       "\n",
       "    .dataframe tbody tr th {\n",
       "        vertical-align: top;\n",
       "    }\n",
       "\n",
       "    .dataframe thead th {\n",
       "        text-align: right;\n",
       "    }\n",
       "</style>\n",
       "<table border=\"1\" class=\"dataframe\">\n",
       "  <thead>\n",
       "    <tr style=\"text-align: right;\">\n",
       "      <th></th>\n",
       "      <th>anime_id</th>\n",
       "      <th>name</th>\n",
       "      <th>genre</th>\n",
       "      <th>avg_rating</th>\n",
       "      <th>totalRatingCount</th>\n",
       "    </tr>\n",
       "  </thead>\n",
       "  <tbody>\n",
       "    <tr>\n",
       "      <th>0</th>\n",
       "      <td>32281</td>\n",
       "      <td>Kimi no Na wa</td>\n",
       "      <td>Drama, Romance, School, Supernatural</td>\n",
       "      <td>9.370000</td>\n",
       "      <td>1961</td>\n",
       "    </tr>\n",
       "    <tr>\n",
       "      <th>1</th>\n",
       "      <td>5114</td>\n",
       "      <td>Fullmetal Alchemist Brotherhood</td>\n",
       "      <td>Action, Adventure, Drama, Fantasy, Magic, Mili...</td>\n",
       "      <td>9.260000</td>\n",
       "      <td>21494</td>\n",
       "    </tr>\n",
       "    <tr>\n",
       "      <th>3</th>\n",
       "      <td>9253</td>\n",
       "      <td>SteinsGate</td>\n",
       "      <td>Sci-Fi, Thriller</td>\n",
       "      <td>9.170000</td>\n",
       "      <td>17151</td>\n",
       "    </tr>\n",
       "    <tr>\n",
       "      <th>4</th>\n",
       "      <td>9969</td>\n",
       "      <td>Gintama039</td>\n",
       "      <td>Action, Comedy, Historical, Parody, Samurai, S...</td>\n",
       "      <td>9.160000</td>\n",
       "      <td>3115</td>\n",
       "    </tr>\n",
       "    <tr>\n",
       "      <th>6</th>\n",
       "      <td>11061</td>\n",
       "      <td>Hunter x Hunter 2011</td>\n",
       "      <td>Action, Adventure, Shounen, Super Power</td>\n",
       "      <td>9.130000</td>\n",
       "      <td>7477</td>\n",
       "    </tr>\n",
       "  </tbody>\n",
       "</table>\n",
       "</div>"
      ],
      "text/plain": [
       "  anime_id                             name  \\\n",
       "0    32281                    Kimi no Na wa   \n",
       "1     5114  Fullmetal Alchemist Brotherhood   \n",
       "3     9253                       SteinsGate   \n",
       "4     9969                       Gintama039   \n",
       "6    11061             Hunter x Hunter 2011   \n",
       "\n",
       "                                               genre  avg_rating  \\\n",
       "0               Drama, Romance, School, Supernatural    9.370000   \n",
       "1  Action, Adventure, Drama, Fantasy, Magic, Mili...    9.260000   \n",
       "3                                   Sci-Fi, Thriller    9.170000   \n",
       "4  Action, Comedy, Historical, Parody, Samurai, S...    9.160000   \n",
       "6            Action, Adventure, Shounen, Super Power    9.130000   \n",
       "\n",
       "   totalRatingCount  \n",
       "0              1961  \n",
       "1             21494  \n",
       "3             17151  \n",
       "4              3115  \n",
       "6              7477  "
      ]
     },
     "execution_count": 103,
     "metadata": {},
     "output_type": "execute_result"
    }
   ],
   "source": [
    "lists_animes.head()"
   ]
  },
  {
   "cell_type": "code",
   "execution_count": 104,
   "metadata": {
    "execution": {
     "iopub.execute_input": "2021-07-19T09:30:28.165946Z",
     "iopub.status.busy": "2021-07-19T09:30:28.165517Z",
     "iopub.status.idle": "2021-07-19T09:30:28.208700Z",
     "shell.execute_reply": "2021-07-19T09:30:28.207638Z",
     "shell.execute_reply.started": "2021-07-19T09:30:28.165901Z"
    },
    "id": "c2GIto_7ZllI"
   },
   "outputs": [],
   "source": [
    "# Define a new feature 'score' and calculate its value with `Iighted_rating()`\n",
    "lists_animes['score'] = lists_animes.apply(Iighted_rating, axis=1)"
   ]
  },
  {
   "cell_type": "code",
   "execution_count": 105,
   "metadata": {
    "colab": {
     "base_uri": "https://localhost:8080/",
     "height": 206
    },
    "execution": {
     "iopub.execute_input": "2021-07-19T09:30:28.210671Z",
     "iopub.status.busy": "2021-07-19T09:30:28.210242Z",
     "iopub.status.idle": "2021-07-19T09:30:28.225889Z",
     "shell.execute_reply": "2021-07-19T09:30:28.224866Z",
     "shell.execute_reply.started": "2021-07-19T09:30:28.210627Z"
    },
    "id": "BFFZCj4iZllJ",
    "outputId": "f3008333-4c47-40d5-8db5-d6c60b437db1"
   },
   "outputs": [
    {
     "data": {
      "text/html": [
       "<div>\n",
       "<style scoped>\n",
       "    .dataframe tbody tr th:only-of-type {\n",
       "        vertical-align: middle;\n",
       "    }\n",
       "\n",
       "    .dataframe tbody tr th {\n",
       "        vertical-align: top;\n",
       "    }\n",
       "\n",
       "    .dataframe thead th {\n",
       "        text-align: right;\n",
       "    }\n",
       "</style>\n",
       "<table border=\"1\" class=\"dataframe\">\n",
       "  <thead>\n",
       "    <tr style=\"text-align: right;\">\n",
       "      <th></th>\n",
       "      <th>anime_id</th>\n",
       "      <th>name</th>\n",
       "      <th>genre</th>\n",
       "      <th>avg_rating</th>\n",
       "      <th>totalRatingCount</th>\n",
       "      <th>score</th>\n",
       "    </tr>\n",
       "  </thead>\n",
       "  <tbody>\n",
       "    <tr>\n",
       "      <th>0</th>\n",
       "      <td>32281</td>\n",
       "      <td>Kimi no Na wa</td>\n",
       "      <td>Drama, Romance, School, Supernatural</td>\n",
       "      <td>9.370000</td>\n",
       "      <td>1961</td>\n",
       "      <td>8.439724</td>\n",
       "    </tr>\n",
       "    <tr>\n",
       "      <th>1</th>\n",
       "      <td>5114</td>\n",
       "      <td>Fullmetal Alchemist Brotherhood</td>\n",
       "      <td>Action, Adventure, Drama, Fantasy, Magic, Mili...</td>\n",
       "      <td>9.260000</td>\n",
       "      <td>21494</td>\n",
       "      <td>9.142819</td>\n",
       "    </tr>\n",
       "    <tr>\n",
       "      <th>3</th>\n",
       "      <td>9253</td>\n",
       "      <td>SteinsGate</td>\n",
       "      <td>Sci-Fi, Thriller</td>\n",
       "      <td>9.170000</td>\n",
       "      <td>17151</td>\n",
       "      <td>9.029663</td>\n",
       "    </tr>\n",
       "    <tr>\n",
       "      <th>4</th>\n",
       "      <td>9969</td>\n",
       "      <td>Gintama039</td>\n",
       "      <td>Action, Comedy, Historical, Parody, Samurai, S...</td>\n",
       "      <td>9.160000</td>\n",
       "      <td>3115</td>\n",
       "      <td>8.541948</td>\n",
       "    </tr>\n",
       "    <tr>\n",
       "      <th>6</th>\n",
       "      <td>11061</td>\n",
       "      <td>Hunter x Hunter 2011</td>\n",
       "      <td>Action, Adventure, Shounen, Super Power</td>\n",
       "      <td>9.130000</td>\n",
       "      <td>7477</td>\n",
       "      <td>8.833943</td>\n",
       "    </tr>\n",
       "  </tbody>\n",
       "</table>\n",
       "</div>"
      ],
      "text/plain": [
       "  anime_id                             name  \\\n",
       "0    32281                    Kimi no Na wa   \n",
       "1     5114  Fullmetal Alchemist Brotherhood   \n",
       "3     9253                       SteinsGate   \n",
       "4     9969                       Gintama039   \n",
       "6    11061             Hunter x Hunter 2011   \n",
       "\n",
       "                                               genre  avg_rating  \\\n",
       "0               Drama, Romance, School, Supernatural    9.370000   \n",
       "1  Action, Adventure, Drama, Fantasy, Magic, Mili...    9.260000   \n",
       "3                                   Sci-Fi, Thriller    9.170000   \n",
       "4  Action, Comedy, Historical, Parody, Samurai, S...    9.160000   \n",
       "6            Action, Adventure, Shounen, Super Power    9.130000   \n",
       "\n",
       "   totalRatingCount    score  \n",
       "0              1961 8.439724  \n",
       "1             21494 9.142819  \n",
       "3             17151 9.029663  \n",
       "4              3115 8.541948  \n",
       "6              7477 8.833943  "
      ]
     },
     "execution_count": 105,
     "metadata": {},
     "output_type": "execute_result"
    }
   ],
   "source": [
    "lists_animes.head()"
   ]
  },
  {
   "cell_type": "code",
   "execution_count": 106,
   "metadata": {
    "colab": {
     "base_uri": "https://localhost:8080/",
     "height": 331
    },
    "execution": {
     "iopub.execute_input": "2021-07-19T09:30:28.227732Z",
     "iopub.status.busy": "2021-07-19T09:30:28.227189Z",
     "iopub.status.idle": "2021-07-19T09:30:28.245116Z",
     "shell.execute_reply": "2021-07-19T09:30:28.244047Z",
     "shell.execute_reply.started": "2021-07-19T09:30:28.227696Z"
    },
    "id": "ffqQd82XZllJ",
    "outputId": "5fb929d0-c541-4562-b26d-1b35443c4d98"
   },
   "outputs": [
    {
     "data": {
      "text/html": [
       "<div>\n",
       "<style scoped>\n",
       "    .dataframe tbody tr th:only-of-type {\n",
       "        vertical-align: middle;\n",
       "    }\n",
       "\n",
       "    .dataframe tbody tr th {\n",
       "        vertical-align: top;\n",
       "    }\n",
       "\n",
       "    .dataframe thead th {\n",
       "        text-align: right;\n",
       "    }\n",
       "</style>\n",
       "<table border=\"1\" class=\"dataframe\">\n",
       "  <thead>\n",
       "    <tr style=\"text-align: right;\">\n",
       "      <th></th>\n",
       "      <th>name</th>\n",
       "      <th>totalRatingCount</th>\n",
       "      <th>avg_rating</th>\n",
       "      <th>score</th>\n",
       "    </tr>\n",
       "  </thead>\n",
       "  <tbody>\n",
       "    <tr>\n",
       "      <th>1</th>\n",
       "      <td>Fullmetal Alchemist Brotherhood</td>\n",
       "      <td>21494</td>\n",
       "      <td>9.260000</td>\n",
       "      <td>9.142819</td>\n",
       "    </tr>\n",
       "    <tr>\n",
       "      <th>3</th>\n",
       "      <td>SteinsGate</td>\n",
       "      <td>17151</td>\n",
       "      <td>9.170000</td>\n",
       "      <td>9.029663</td>\n",
       "    </tr>\n",
       "    <tr>\n",
       "      <th>10</th>\n",
       "      <td>Clannad After Story</td>\n",
       "      <td>15518</td>\n",
       "      <td>9.060000</td>\n",
       "      <td>8.912360</td>\n",
       "    </tr>\n",
       "    <tr>\n",
       "      <th>6</th>\n",
       "      <td>Hunter x Hunter 2011</td>\n",
       "      <td>7477</td>\n",
       "      <td>9.130000</td>\n",
       "      <td>8.833943</td>\n",
       "    </tr>\n",
       "    <tr>\n",
       "      <th>12</th>\n",
       "      <td>Gintama</td>\n",
       "      <td>4264</td>\n",
       "      <td>9.040000</td>\n",
       "      <td>8.579738</td>\n",
       "    </tr>\n",
       "    <tr>\n",
       "      <th>4</th>\n",
       "      <td>Gintama039</td>\n",
       "      <td>3115</td>\n",
       "      <td>9.160000</td>\n",
       "      <td>8.541948</td>\n",
       "    </tr>\n",
       "    <tr>\n",
       "      <th>0</th>\n",
       "      <td>Kimi no Na wa</td>\n",
       "      <td>1961</td>\n",
       "      <td>9.370000</td>\n",
       "      <td>8.439724</td>\n",
       "    </tr>\n",
       "    <tr>\n",
       "      <th>9</th>\n",
       "      <td>Gintama039 Enchousen</td>\n",
       "      <td>2126</td>\n",
       "      <td>9.110000</td>\n",
       "      <td>8.311494</td>\n",
       "    </tr>\n",
       "    <tr>\n",
       "      <th>8</th>\n",
       "      <td>Gintama Movie Kanketsuhen  Yorozuya yo Eien Nare</td>\n",
       "      <td>2147</td>\n",
       "      <td>9.100000</td>\n",
       "      <td>8.309994</td>\n",
       "    </tr>\n",
       "  </tbody>\n",
       "</table>\n",
       "</div>"
      ],
      "text/plain": [
       "                                                name  totalRatingCount  \\\n",
       "1                    Fullmetal Alchemist Brotherhood             21494   \n",
       "3                                         SteinsGate             17151   \n",
       "10                               Clannad After Story             15518   \n",
       "6                               Hunter x Hunter 2011              7477   \n",
       "12                                           Gintama              4264   \n",
       "4                                         Gintama039              3115   \n",
       "0                                      Kimi no Na wa              1961   \n",
       "9                               Gintama039 Enchousen              2126   \n",
       "8   Gintama Movie Kanketsuhen  Yorozuya yo Eien Nare              2147   \n",
       "\n",
       "    avg_rating    score  \n",
       "1     9.260000 9.142819  \n",
       "3     9.170000 9.029663  \n",
       "10    9.060000 8.912360  \n",
       "6     9.130000 8.833943  \n",
       "12    9.040000 8.579738  \n",
       "4     9.160000 8.541948  \n",
       "0     9.370000 8.439724  \n",
       "9     9.110000 8.311494  \n",
       "8     9.100000 8.309994  "
      ]
     },
     "execution_count": 106,
     "metadata": {},
     "output_type": "execute_result"
    }
   ],
   "source": [
    "#Sort movies based on score calculated above\n",
    "lists_animes = lists_animes.sort_values('score', ascending=False)\n",
    "#Print the top 10 movies\n",
    "lists_animes[['name', 'totalRatingCount', 'avg_rating', 'score']].head(10)"
   ]
  },
  {
   "cell_type": "markdown",
   "metadata": {
    "id": "0A3r-8lfZllL"
   },
   "source": [
    "The above plot shows top 10 animes which can be recommended based on trend."
   ]
  }
 ],
 "metadata": {
  "colab": {
   "name": "akshiths_work.ipynb",
   "provenance": []
  },
  "kernelspec": {
   "display_name": "Python 3",
   "language": "python",
   "name": "python3"
  },
  "language_info": {
   "codemirror_mode": {
    "name": "ipython",
    "version": 3
   },
   "file_extension": ".py",
   "mimetype": "text/x-python",
   "name": "python",
   "nbconvert_exporter": "python",
   "pygments_lexer": "ipython3",
   "version": "3.8.3"
  }
 },
 "nbformat": 4,
 "nbformat_minor": 1
}
